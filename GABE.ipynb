{
 "cells": [
  {
   "cell_type": "code",
   "execution_count": 1,
   "metadata": {},
   "outputs": [
    {
     "ename": "NameError",
     "evalue": "name 'covid_19_vaccines' is not defined",
     "output_type": "error",
     "traceback": [
      "\u001b[0;31m---------------------------------------------------------------------------\u001b[0m",
      "\u001b[0;31mNameError\u001b[0m                                 Traceback (most recent call last)",
      "Cell \u001b[0;32mIn[1], line 1\u001b[0m\n\u001b[0;32m----> 1\u001b[0m covid_19_vaccines[\u001b[39m'\u001b[39m\u001b[39mnew_doses\u001b[39m\u001b[39m'\u001b[39m] \u001b[39m=\u001b[39m covid_19_vaccines[\u001b[39m'\u001b[39m\u001b[39mtotal_doses_administered\u001b[39m\u001b[39m'\u001b[39m]\u001b[39m.\u001b[39mdiff(\u001b[39m1\u001b[39m)\n\u001b[1;32m      2\u001b[0m covid_19_vaccines[\u001b[39m'\u001b[39m\u001b[39mnew_doses\u001b[39m\u001b[39m'\u001b[39m]\u001b[39m.\u001b[39mfillna(\u001b[39m0\u001b[39m,inplace\u001b[39m=\u001b[39m\u001b[39mTrue\u001b[39;00m)\n\u001b[1;32m      3\u001b[0m covid_19_vaccines[\u001b[39m'\u001b[39m\u001b[39mnew_doses_unvaccinated\u001b[39m\u001b[39m'\u001b[39m] \u001b[39m=\u001b[39m (covid_19_vaccines[\u001b[39m'\u001b[39m\u001b[39mtotal_doses_administered\u001b[39m\u001b[39m'\u001b[39m] \u001b[39m-\u001b[39m covid_19_vaccines[\u001b[39m'\u001b[39m\u001b[39mtotal_individuals_at_least_one\u001b[39m\u001b[39m'\u001b[39m])\u001b[39m.\u001b[39mdiff(\u001b[39m1\u001b[39m)\n",
      "\u001b[0;31mNameError\u001b[0m: name 'covid_19_vaccines' is not defined"
     ]
    }
   ],
   "source": [
    "covid_19_vaccines['new_doses'] = covid_19_vaccines['total_doses_administered'].diff(1)\n",
    "covid_19_vaccines['new_doses'].fillna(0,inplace=True)\n",
    "covid_19_vaccines['new_doses_unvaccinated'] = (covid_19_vaccines['total_doses_administered'] - covid_19_vaccines['total_individuals_at_least_one']).diff(1)\n",
    "covid_19_vaccines['new_doses_unvaccinated'].fillna(0,inplace=True)\n",
    "covid_19_vaccines['new_doses_one_vaccine'] = (covid_19_vaccines['total_individuals_fully_vaccinated']).diff(1)\n",
    "covid_19_vaccines['new_doses_one_vaccine'].fillna(0,inplace=True)\n",
    "covid_19_vaccines['new_doses_two_vaccines'] = (covid_19_vaccines['total_individuals_3doses'] - covid_19_vaccines['total_individuals_fully_vaccinated']).diff(1)\n",
    "covid_19_vaccines['new_doses_two_vaccines'].fillna(0,inplace=True)\n",
    "covid_19_vaccines['new_doses_three_vaccines'] = covid_19_vaccines['total_individuals_3doses'].diff(1)\n",
    "covid_19_vaccines['new_doses_three_vaccines'].fillna(0,inplace=True)\n",
    "\n",
    "relvant_columns = ['reported_date', 'new_doses', 'new_doses_unvaccinated', 'new_doses_one_vaccine', 'new_doses_two_vaccines', 'new_doses_three_vaccines']\n",
    "\n",
    "cleaned_data = covid_19_vaccines[relvant_columns]\n",
    "cleaned_data"
   ]
  }
 ],
 "metadata": {
  "kernelspec": {
   "display_name": "Python 3",
   "language": "python",
   "name": "python3"
  },
  "language_info": {
   "codemirror_mode": {
    "name": "ipython",
    "version": 3
   },
   "file_extension": ".py",
   "mimetype": "text/x-python",
   "name": "python",
   "nbconvert_exporter": "python",
   "pygments_lexer": "ipython3",
   "version": "3.11.3"
  },
  "orig_nbformat": 4
 },
 "nbformat": 4,
 "nbformat_minor": 2
}
