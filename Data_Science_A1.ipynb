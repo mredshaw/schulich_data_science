{
 "cells": [
  {
   "cell_type": "code",
   "execution_count": 660,
   "metadata": {},
   "outputs": [],
   "source": [
    "import pandas as pd"
   ]
  },
  {
   "cell_type": "code",
   "execution_count": 661,
   "metadata": {},
   "outputs": [],
   "source": [
    "import seaborn as sns"
   ]
  },
  {
   "cell_type": "code",
   "execution_count": 662,
   "metadata": {},
   "outputs": [],
   "source": [
    "import matplotlib.pyplot as plt"
   ]
  },
  {
   "cell_type": "code",
   "execution_count": 663,
   "metadata": {},
   "outputs": [],
   "source": [
    "df= pd.read_csv('/Users/mikeredshaw/Documents/Schulich MBAN/MBAN 6110 - Data Science/Assignment 1/sales_data.csv')"
   ]
  },
  {
   "cell_type": "code",
   "execution_count": 664,
   "metadata": {},
   "outputs": [
    {
     "name": "stdout",
     "output_type": "stream",
     "text": [
      "<class 'pandas.core.frame.DataFrame'>\n",
      "RangeIndex: 1050 entries, 0 to 1049\n",
      "Data columns (total 5 columns):\n",
      " #   Column      Non-Null Count  Dtype  \n",
      "---  ------      --------------  -----  \n",
      " 0   Product     947 non-null    object \n",
      " 1   Region      946 non-null    object \n",
      " 2   Price       945 non-null    float64\n",
      " 3   Units Sold  946 non-null    float64\n",
      " 4   Sale Date   1050 non-null   object \n",
      "dtypes: float64(2), object(3)\n",
      "memory usage: 41.1+ KB\n"
     ]
    }
   ],
   "source": [
    "df.info()"
   ]
  },
  {
   "cell_type": "code",
   "execution_count": 665,
   "metadata": {},
   "outputs": [
    {
     "data": {
      "text/html": [
       "<div>\n",
       "<style scoped>\n",
       "    .dataframe tbody tr th:only-of-type {\n",
       "        vertical-align: middle;\n",
       "    }\n",
       "\n",
       "    .dataframe tbody tr th {\n",
       "        vertical-align: top;\n",
       "    }\n",
       "\n",
       "    .dataframe thead th {\n",
       "        text-align: right;\n",
       "    }\n",
       "</style>\n",
       "<table border=\"1\" class=\"dataframe\">\n",
       "  <thead>\n",
       "    <tr style=\"text-align: right;\">\n",
       "      <th></th>\n",
       "      <th>Product</th>\n",
       "      <th>Region</th>\n",
       "      <th>Price</th>\n",
       "      <th>Units Sold</th>\n",
       "      <th>Sale Date</th>\n",
       "    </tr>\n",
       "  </thead>\n",
       "  <tbody>\n",
       "    <tr>\n",
       "      <th>count</th>\n",
       "      <td>947</td>\n",
       "      <td>946</td>\n",
       "      <td>945.000000</td>\n",
       "      <td>946.000000</td>\n",
       "      <td>1050</td>\n",
       "    </tr>\n",
       "    <tr>\n",
       "      <th>unique</th>\n",
       "      <td>50</td>\n",
       "      <td>10</td>\n",
       "      <td>NaN</td>\n",
       "      <td>NaN</td>\n",
       "      <td>1000</td>\n",
       "    </tr>\n",
       "    <tr>\n",
       "      <th>top</th>\n",
       "      <td>Product_45</td>\n",
       "      <td>Region_9</td>\n",
       "      <td>NaN</td>\n",
       "      <td>NaN</td>\n",
       "      <td>2022-07-28</td>\n",
       "    </tr>\n",
       "    <tr>\n",
       "      <th>freq</th>\n",
       "      <td>28</td>\n",
       "      <td>109</td>\n",
       "      <td>NaN</td>\n",
       "      <td>NaN</td>\n",
       "      <td>2</td>\n",
       "    </tr>\n",
       "    <tr>\n",
       "      <th>mean</th>\n",
       "      <td>NaN</td>\n",
       "      <td>NaN</td>\n",
       "      <td>107.598688</td>\n",
       "      <td>10.048626</td>\n",
       "      <td>NaN</td>\n",
       "    </tr>\n",
       "    <tr>\n",
       "      <th>std</th>\n",
       "      <td>NaN</td>\n",
       "      <td>NaN</td>\n",
       "      <td>124.020322</td>\n",
       "      <td>3.172261</td>\n",
       "      <td>NaN</td>\n",
       "    </tr>\n",
       "    <tr>\n",
       "      <th>min</th>\n",
       "      <td>NaN</td>\n",
       "      <td>NaN</td>\n",
       "      <td>0.200000</td>\n",
       "      <td>2.000000</td>\n",
       "      <td>NaN</td>\n",
       "    </tr>\n",
       "    <tr>\n",
       "      <th>25%</th>\n",
       "      <td>NaN</td>\n",
       "      <td>NaN</td>\n",
       "      <td>29.430000</td>\n",
       "      <td>8.000000</td>\n",
       "      <td>NaN</td>\n",
       "    </tr>\n",
       "    <tr>\n",
       "      <th>50%</th>\n",
       "      <td>NaN</td>\n",
       "      <td>NaN</td>\n",
       "      <td>78.130000</td>\n",
       "      <td>10.000000</td>\n",
       "      <td>NaN</td>\n",
       "    </tr>\n",
       "    <tr>\n",
       "      <th>75%</th>\n",
       "      <td>NaN</td>\n",
       "      <td>NaN</td>\n",
       "      <td>142.570000</td>\n",
       "      <td>12.000000</td>\n",
       "      <td>NaN</td>\n",
       "    </tr>\n",
       "    <tr>\n",
       "      <th>max</th>\n",
       "      <td>NaN</td>\n",
       "      <td>NaN</td>\n",
       "      <td>2143.300000</td>\n",
       "      <td>22.000000</td>\n",
       "      <td>NaN</td>\n",
       "    </tr>\n",
       "  </tbody>\n",
       "</table>\n",
       "</div>"
      ],
      "text/plain": [
       "           Product    Region        Price  Units Sold   Sale Date\n",
       "count          947       946   945.000000  946.000000        1050\n",
       "unique          50        10          NaN         NaN        1000\n",
       "top     Product_45  Region_9          NaN         NaN  2022-07-28\n",
       "freq            28       109          NaN         NaN           2\n",
       "mean           NaN       NaN   107.598688   10.048626         NaN\n",
       "std            NaN       NaN   124.020322    3.172261         NaN\n",
       "min            NaN       NaN     0.200000    2.000000         NaN\n",
       "25%            NaN       NaN    29.430000    8.000000         NaN\n",
       "50%            NaN       NaN    78.130000   10.000000         NaN\n",
       "75%            NaN       NaN   142.570000   12.000000         NaN\n",
       "max            NaN       NaN  2143.300000   22.000000         NaN"
      ]
     },
     "execution_count": 665,
     "metadata": {},
     "output_type": "execute_result"
    }
   ],
   "source": [
    "df.describe(include='all')"
   ]
  },
  {
   "cell_type": "code",
   "execution_count": 666,
   "metadata": {},
   "outputs": [
    {
     "name": "stdout",
     "output_type": "stream",
     "text": [
      "      Product    Region   Price  Units Sold   Sale Date\n",
      "0         NaN  Region_6   75.96        10.0  2022-01-01\n",
      "1         NaN  Region_1  175.78         8.0  2022-01-02\n",
      "2  Product_46  Region_3   20.43        12.0  2022-01-03\n",
      "3  Product_36  Region_1   12.77        10.0  2022-01-04\n",
      "4  Product_17  Region_6  125.69         6.0  2022-01-05\n"
     ]
    }
   ],
   "source": [
    "print(df.head())"
   ]
  },
  {
   "cell_type": "code",
   "execution_count": 667,
   "metadata": {},
   "outputs": [
    {
     "name": "stdout",
     "output_type": "stream",
     "text": [
      "Product        object\n",
      "Region         object\n",
      "Price         float64\n",
      "Units Sold    float64\n",
      "Sale Date      object\n",
      "dtype: object\n"
     ]
    }
   ],
   "source": [
    "print(df.dtypes)"
   ]
  },
  {
   "cell_type": "code",
   "execution_count": 668,
   "metadata": {},
   "outputs": [
    {
     "name": "stdout",
     "output_type": "stream",
     "text": [
      "<bound method NDFrame.describe of          Product    Region   Price  Units Sold   Sale Date\n",
      "0            NaN  Region_6   75.96        10.0  2022-01-01\n",
      "1            NaN  Region_1  175.78         8.0  2022-01-02\n",
      "2     Product_46  Region_3   20.43        12.0  2022-01-03\n",
      "3     Product_36  Region_1   12.77        10.0  2022-01-04\n",
      "4     Product_17  Region_6  125.69         6.0  2022-01-05\n",
      "...          ...       ...     ...         ...         ...\n",
      "1045  Product_45  Region_7   78.69         8.0  2022-07-28\n",
      "1046   Product_1  Region_6     NaN         8.0  2022-08-02\n",
      "1047  Product_17  Region_2  114.37        11.0  2023-12-18\n",
      "1048         NaN  Region_8     NaN         5.0  2023-12-27\n",
      "1049  Product_16  Region_2   69.30         8.0  2024-02-23\n",
      "\n",
      "[1050 rows x 5 columns]>\n"
     ]
    }
   ],
   "source": [
    "print(df.describe)"
   ]
  },
  {
   "cell_type": "code",
   "execution_count": 669,
   "metadata": {},
   "outputs": [
    {
     "name": "stdout",
     "output_type": "stream",
     "text": [
      "      Product  Region  Price  Units Sold  Sale Date\n",
      "0        True   False  False       False      False\n",
      "1        True   False  False       False      False\n",
      "2       False   False  False       False      False\n",
      "3       False   False  False       False      False\n",
      "4       False   False  False       False      False\n",
      "...       ...     ...    ...         ...        ...\n",
      "1045    False   False  False       False      False\n",
      "1046    False   False   True       False      False\n",
      "1047    False   False  False       False      False\n",
      "1048     True   False   True       False      False\n",
      "1049    False   False  False       False      False\n",
      "\n",
      "[1050 rows x 5 columns]\n"
     ]
    }
   ],
   "source": [
    "print(df.isnull())"
   ]
  },
  {
   "cell_type": "code",
   "execution_count": 670,
   "metadata": {},
   "outputs": [
    {
     "name": "stdout",
     "output_type": "stream",
     "text": [
      "0       False\n",
      "1       False\n",
      "2       False\n",
      "3       False\n",
      "4       False\n",
      "        ...  \n",
      "1045     True\n",
      "1046     True\n",
      "1047     True\n",
      "1048     True\n",
      "1049     True\n",
      "Length: 1050, dtype: bool\n"
     ]
    }
   ],
   "source": [
    "print(df.duplicated())"
   ]
  },
  {
   "cell_type": "code",
   "execution_count": 671,
   "metadata": {},
   "outputs": [
    {
     "data": {
      "text/plain": [
       "<Axes: xlabel='Units Sold', ylabel='Count'>"
      ]
     },
     "execution_count": 671,
     "metadata": {},
     "output_type": "execute_result"
    },
    {
     "data": {
      "image/png": "[encoded data removed]",
      "text/plain": [
       "<Figure size 640x480 with 1 Axes>"
      ]
     },
     "metadata": {},
     "output_type": "display_data"
    }
   ],
   "source": [
    "sns.histplot(df['Units Sold'])"
   ]
  },
  {
   "cell_type": "code",
   "execution_count": 672,
   "metadata": {},
   "outputs": [
    {
     "name": "stdout",
     "output_type": "stream",
     "text": [
      "Product\n",
      "Product_45    28\n",
      "Product_5     28\n",
      "Product_33    27\n",
      "Product_1     26\n",
      "Product_13    25\n",
      "Product_30    24\n",
      "Product_4     23\n",
      "Product_43    23\n",
      "Product_48    23\n",
      "Product_29    23\n",
      "Product_23    22\n",
      "Product_40    22\n",
      "Product_31    22\n",
      "Product_37    21\n",
      "Product_50    21\n",
      "Product_15    20\n",
      "Product_44    20\n",
      "Product_42    20\n",
      "Product_46    20\n",
      "Product_19    20\n",
      "Product_14    20\n",
      "Product_17    20\n",
      "Product_16    20\n",
      "Product_35    19\n",
      "Product_39    19\n",
      "Product_41    19\n",
      "Product_10    19\n",
      "Product_2     19\n",
      "Product_6     19\n",
      "Product_7     18\n",
      "Product_20    18\n",
      "Product_28    17\n",
      "Product_34    17\n",
      "Product_25    17\n",
      "Product_22    16\n",
      "Product_8     16\n",
      "Product_24    16\n",
      "Product_32    16\n",
      "Product_27    16\n",
      "Product_21    15\n",
      "Product_9     15\n",
      "Product_18    14\n",
      "Product_38    14\n",
      "Product_11    14\n",
      "Product_47    13\n",
      "Product_36    13\n",
      "Product_26    13\n",
      "Product_49    13\n",
      "Product_12    13\n",
      "Product_3     11\n",
      "Name: count, dtype: int64\n"
     ]
    }
   ],
   "source": [
    "num_of_products = df['Product'].value_counts()\n",
    "print(num_of_products)"
   ]
  },
  {
   "cell_type": "code",
   "execution_count": 673,
   "metadata": {},
   "outputs": [
    {
     "data": {
      "image/png": "[encoded data removed]",
      "text/plain": [
       "<Figure size 1200x600 with 1 Axes>"
      ]
     },
     "metadata": {},
     "output_type": "display_data"
    }
   ],
   "source": [
    "plt.figure(figsize=(12, 6))\n",
    "sns.barplot(x=num_of_products.index, y=num_of_products.values)\n",
    "plt.xticks(rotation=90)\n",
    "plt.xlabel('Product')\n",
    "plt.ylabel('Count')\n",
    "plt.show()"
   ]
  },
  {
   "attachments": {},
   "cell_type": "markdown",
   "metadata": {},
   "source": [
    "To begin the cleaning process, I want to ensure the values being used make sense. Many of the price entries included values past two decimal points. This doesn't make much sense in regards to pricing values, so I'll round all the values of that column to two decimal places."
   ]
  },
  {
   "cell_type": "code",
   "execution_count": 674,
   "metadata": {},
   "outputs": [
    {
     "name": "stdout",
     "output_type": "stream",
     "text": [
      "         Product    Region   Price  Units Sold   Sale Date\n",
      "0            NaN  Region_6   75.96        10.0  2022-01-01\n",
      "1            NaN  Region_1  175.78         8.0  2022-01-02\n",
      "2     Product_46  Region_3   20.43        12.0  2022-01-03\n",
      "3     Product_36  Region_1   12.77        10.0  2022-01-04\n",
      "4     Product_17  Region_6  125.69         6.0  2022-01-05\n",
      "...          ...       ...     ...         ...         ...\n",
      "1045  Product_45  Region_7   78.69         8.0  2022-07-28\n",
      "1046   Product_1  Region_6     NaN         8.0  2022-08-02\n",
      "1047  Product_17  Region_2  114.37        11.0  2023-12-18\n",
      "1048         NaN  Region_8     NaN         5.0  2023-12-27\n",
      "1049  Product_16  Region_2   69.30         8.0  2024-02-23\n",
      "\n",
      "[1050 rows x 5 columns]\n"
     ]
    }
   ],
   "source": [
    "df_clean = df.round({'price': 2})\n",
    "print(df_clean)"
   ]
  },
  {
   "cell_type": "code",
   "execution_count": 675,
   "metadata": {},
   "outputs": [
    {
     "name": "stdout",
     "output_type": "stream",
     "text": [
      "         Product    Region   Price  Units Sold   Sale Date\n",
      "0            NaN  Region_6   75.96        10.0  2022-01-01\n",
      "1            NaN  Region_1  175.78         8.0  2022-01-02\n",
      "2     Product_46  Region_3   20.43        12.0  2022-01-03\n",
      "3     Product_36  Region_1   12.77        10.0  2022-01-04\n",
      "4     Product_17  Region_6  125.69         6.0  2022-01-05\n",
      "...          ...       ...     ...         ...         ...\n",
      "1045  Product_45  Region_7   78.69         8.0  2022-07-28\n",
      "1046   Product_1  Region_6     NaN         8.0  2022-08-02\n",
      "1047  Product_17  Region_2  114.37        11.0  2023-12-18\n",
      "1048         NaN  Region_8     NaN         5.0  2023-12-27\n",
      "1049  Product_16  Region_2   69.30         8.0  2024-02-23\n",
      "\n",
      "[1050 rows x 5 columns]\n"
     ]
    }
   ],
   "source": [
    "print(df_clean)"
   ]
  },
  {
   "attachments": {},
   "cell_type": "markdown",
   "metadata": {},
   "source": [
    "I want to drop any duplicate entries. Any sales accidentally entered twice could really skew the data:"
   ]
  },
  {
   "cell_type": "code",
   "execution_count": 676,
   "metadata": {},
   "outputs": [],
   "source": [
    "df_clean.drop_duplicates(inplace=True)"
   ]
  },
  {
   "cell_type": "code",
   "execution_count": 677,
   "metadata": {},
   "outputs": [
    {
     "name": "stdout",
     "output_type": "stream",
     "text": [
      "        Product     Region   Price  Units Sold   Sale Date\n",
      "0           NaN   Region_6   75.96        10.0  2022-01-01\n",
      "1           NaN   Region_1  175.78         8.0  2022-01-02\n",
      "2    Product_46   Region_3   20.43        12.0  2022-01-03\n",
      "3    Product_36   Region_1   12.77        10.0  2022-01-04\n",
      "4    Product_17   Region_6  125.69         6.0  2022-01-05\n",
      "..          ...        ...     ...         ...         ...\n",
      "995         NaN   Region_7   31.83        13.0  2024-09-22\n",
      "996  Product_36        NaN   46.19         9.0  2024-09-23\n",
      "997         NaN   Region_7  311.80        13.0  2024-09-24\n",
      "998   Product_2  Region_10   43.44        15.0  2024-09-25\n",
      "999  Product_35   Region_8   56.95         6.0  2024-09-26\n",
      "\n",
      "[1000 rows x 5 columns]\n"
     ]
    }
   ],
   "source": [
    "print(df_clean)"
   ]
  },
  {
   "cell_type": "code",
   "execution_count": 678,
   "metadata": {},
   "outputs": [
    {
     "data": {
      "text/html": [
       "<div>\n",
       "<style scoped>\n",
       "    .dataframe tbody tr th:only-of-type {\n",
       "        vertical-align: middle;\n",
       "    }\n",
       "\n",
       "    .dataframe tbody tr th {\n",
       "        vertical-align: top;\n",
       "    }\n",
       "\n",
       "    .dataframe thead th {\n",
       "        text-align: right;\n",
       "    }\n",
       "</style>\n",
       "<table border=\"1\" class=\"dataframe\">\n",
       "  <thead>\n",
       "    <tr style=\"text-align: right;\">\n",
       "      <th></th>\n",
       "      <th>Product</th>\n",
       "      <th>Region</th>\n",
       "      <th>Price</th>\n",
       "      <th>Units Sold</th>\n",
       "      <th>Sale Date</th>\n",
       "    </tr>\n",
       "  </thead>\n",
       "  <tbody>\n",
       "    <tr>\n",
       "      <th>2</th>\n",
       "      <td>Product_46</td>\n",
       "      <td>Region_3</td>\n",
       "      <td>20.43</td>\n",
       "      <td>12.0</td>\n",
       "      <td>2022-01-03</td>\n",
       "    </tr>\n",
       "    <tr>\n",
       "      <th>46</th>\n",
       "      <td>Product_46</td>\n",
       "      <td>Region_6</td>\n",
       "      <td>37.44</td>\n",
       "      <td>10.0</td>\n",
       "      <td>2022-02-16</td>\n",
       "    </tr>\n",
       "    <tr>\n",
       "      <th>179</th>\n",
       "      <td>Product_46</td>\n",
       "      <td>Region_1</td>\n",
       "      <td>5.81</td>\n",
       "      <td>8.0</td>\n",
       "      <td>2022-06-29</td>\n",
       "    </tr>\n",
       "    <tr>\n",
       "      <th>193</th>\n",
       "      <td>Product_46</td>\n",
       "      <td>Region_8</td>\n",
       "      <td>155.11</td>\n",
       "      <td>12.0</td>\n",
       "      <td>2022-07-13</td>\n",
       "    </tr>\n",
       "    <tr>\n",
       "      <th>385</th>\n",
       "      <td>Product_46</td>\n",
       "      <td>Region_2</td>\n",
       "      <td>116.38</td>\n",
       "      <td>10.0</td>\n",
       "      <td>2023-01-21</td>\n",
       "    </tr>\n",
       "    <tr>\n",
       "      <th>513</th>\n",
       "      <td>Product_46</td>\n",
       "      <td>Region_2</td>\n",
       "      <td>104.48</td>\n",
       "      <td>11.0</td>\n",
       "      <td>2023-05-29</td>\n",
       "    </tr>\n",
       "    <tr>\n",
       "      <th>529</th>\n",
       "      <td>Product_46</td>\n",
       "      <td>Region_3</td>\n",
       "      <td>85.10</td>\n",
       "      <td>11.0</td>\n",
       "      <td>2023-06-14</td>\n",
       "    </tr>\n",
       "    <tr>\n",
       "      <th>543</th>\n",
       "      <td>Product_46</td>\n",
       "      <td>Region_1</td>\n",
       "      <td>NaN</td>\n",
       "      <td>8.0</td>\n",
       "      <td>2023-06-28</td>\n",
       "    </tr>\n",
       "    <tr>\n",
       "      <th>545</th>\n",
       "      <td>Product_46</td>\n",
       "      <td>Region_1</td>\n",
       "      <td>76.66</td>\n",
       "      <td>14.0</td>\n",
       "      <td>2023-06-30</td>\n",
       "    </tr>\n",
       "    <tr>\n",
       "      <th>557</th>\n",
       "      <td>Product_46</td>\n",
       "      <td>Region_3</td>\n",
       "      <td>32.69</td>\n",
       "      <td>7.0</td>\n",
       "      <td>2023-07-12</td>\n",
       "    </tr>\n",
       "    <tr>\n",
       "      <th>594</th>\n",
       "      <td>Product_46</td>\n",
       "      <td>Region_4</td>\n",
       "      <td>NaN</td>\n",
       "      <td>15.0</td>\n",
       "      <td>2023-08-18</td>\n",
       "    </tr>\n",
       "    <tr>\n",
       "      <th>637</th>\n",
       "      <td>Product_46</td>\n",
       "      <td>Region_4</td>\n",
       "      <td>96.72</td>\n",
       "      <td>7.0</td>\n",
       "      <td>2023-09-30</td>\n",
       "    </tr>\n",
       "    <tr>\n",
       "      <th>714</th>\n",
       "      <td>Product_46</td>\n",
       "      <td>Region_6</td>\n",
       "      <td>211.90</td>\n",
       "      <td>11.0</td>\n",
       "      <td>2023-12-16</td>\n",
       "    </tr>\n",
       "    <tr>\n",
       "      <th>756</th>\n",
       "      <td>Product_46</td>\n",
       "      <td>Region_6</td>\n",
       "      <td>NaN</td>\n",
       "      <td>11.0</td>\n",
       "      <td>2024-01-27</td>\n",
       "    </tr>\n",
       "    <tr>\n",
       "      <th>835</th>\n",
       "      <td>Product_46</td>\n",
       "      <td>Region_1</td>\n",
       "      <td>273.74</td>\n",
       "      <td>6.0</td>\n",
       "      <td>2024-04-15</td>\n",
       "    </tr>\n",
       "    <tr>\n",
       "      <th>837</th>\n",
       "      <td>Product_46</td>\n",
       "      <td>Region_9</td>\n",
       "      <td>43.44</td>\n",
       "      <td>NaN</td>\n",
       "      <td>2024-04-17</td>\n",
       "    </tr>\n",
       "    <tr>\n",
       "      <th>887</th>\n",
       "      <td>Product_46</td>\n",
       "      <td>Region_10</td>\n",
       "      <td>150.02</td>\n",
       "      <td>10.0</td>\n",
       "      <td>2024-06-06</td>\n",
       "    </tr>\n",
       "    <tr>\n",
       "      <th>947</th>\n",
       "      <td>Product_46</td>\n",
       "      <td>Region_10</td>\n",
       "      <td>21.11</td>\n",
       "      <td>6.0</td>\n",
       "      <td>2024-08-05</td>\n",
       "    </tr>\n",
       "    <tr>\n",
       "      <th>957</th>\n",
       "      <td>Product_46</td>\n",
       "      <td>Region_10</td>\n",
       "      <td>28.11</td>\n",
       "      <td>8.0</td>\n",
       "      <td>2024-08-15</td>\n",
       "    </tr>\n",
       "  </tbody>\n",
       "</table>\n",
       "</div>"
      ],
      "text/plain": [
       "        Product     Region   Price  Units Sold   Sale Date\n",
       "2    Product_46   Region_3   20.43        12.0  2022-01-03\n",
       "46   Product_46   Region_6   37.44        10.0  2022-02-16\n",
       "179  Product_46   Region_1    5.81         8.0  2022-06-29\n",
       "193  Product_46   Region_8  155.11        12.0  2022-07-13\n",
       "385  Product_46   Region_2  116.38        10.0  2023-01-21\n",
       "513  Product_46   Region_2  104.48        11.0  2023-05-29\n",
       "529  Product_46   Region_3   85.10        11.0  2023-06-14\n",
       "543  Product_46   Region_1     NaN         8.0  2023-06-28\n",
       "545  Product_46   Region_1   76.66        14.0  2023-06-30\n",
       "557  Product_46   Region_3   32.69         7.0  2023-07-12\n",
       "594  Product_46   Region_4     NaN        15.0  2023-08-18\n",
       "637  Product_46   Region_4   96.72         7.0  2023-09-30\n",
       "714  Product_46   Region_6  211.90        11.0  2023-12-16\n",
       "756  Product_46   Region_6     NaN        11.0  2024-01-27\n",
       "835  Product_46   Region_1  273.74         6.0  2024-04-15\n",
       "837  Product_46   Region_9   43.44         NaN  2024-04-17\n",
       "887  Product_46  Region_10  150.02        10.0  2024-06-06\n",
       "947  Product_46  Region_10   21.11         6.0  2024-08-05\n",
       "957  Product_46  Region_10   28.11         8.0  2024-08-15"
      ]
     },
     "execution_count": 678,
     "metadata": {},
     "output_type": "execute_result"
    }
   ],
   "source": [
    "df_clean[df_clean['Product'] == 'Product_46']"
   ]
  },
  {
   "cell_type": "code",
   "execution_count": 679,
   "metadata": {},
   "outputs": [
    {
     "name": "stdout",
     "output_type": "stream",
     "text": [
      "         Product    Region   Price  Units Sold   Sale Date\n",
      "0            NaN  Region_6   75.96        10.0  2022-01-01\n",
      "1            NaN  Region_1  175.78         8.0  2022-01-02\n",
      "10    Product_20  Region_3     NaN         8.0  2022-01-11\n",
      "12     Product_2  Region_3     NaN         6.0  2022-01-13\n",
      "16    Product_43  Region_6   68.53         NaN  2022-01-17\n",
      "...          ...       ...     ...         ...         ...\n",
      "1034  Product_39       NaN   29.22        10.0  2024-07-07\n",
      "1039  Product_40       NaN    6.83        12.0  2023-02-07\n",
      "1040  Product_44  Region_9  101.69         NaN  2024-09-11\n",
      "1046   Product_1  Region_6     NaN         8.0  2022-08-02\n",
      "1048         NaN  Region_8     NaN         5.0  2023-12-27\n",
      "\n",
      "[363 rows x 5 columns]\n"
     ]
    }
   ],
   "source": [
    "na_entries = df[df.isna().any(axis=1)]\n",
    "print(na_entries)"
   ]
  },
  {
   "cell_type": "code",
   "execution_count": 680,
   "metadata": {},
   "outputs": [
    {
     "name": "stdout",
     "output_type": "stream",
     "text": [
      "         Product     Region   Price  Units Sold   Sale Date\n",
      "16    Product_43   Region_6   68.53         NaN  2022-01-17\n",
      "62     Product_5  Region_10   71.01         NaN  2022-03-04\n",
      "81    Product_23   Region_5    9.93         NaN  2022-03-23\n",
      "86     Product_5   Region_6   44.88         NaN  2022-03-28\n",
      "93    Product_29   Region_6   87.63         NaN  2022-04-04\n",
      "...          ...        ...     ...         ...         ...\n",
      "990          NaN   Region_2     NaN         NaN  2024-09-17\n",
      "1005  Product_15        NaN   59.91         NaN  2022-05-17\n",
      "1012  Product_40   Region_8   92.70         NaN  2023-05-17\n",
      "1013  Product_22   Region_9  141.53         NaN  2022-05-26\n",
      "1040  Product_44   Region_9  101.69         NaN  2024-09-11\n",
      "\n",
      "[104 rows x 5 columns]\n"
     ]
    }
   ],
   "source": [
    "na_units_sold = df[df['Units Sold'].isna()]\n",
    "print(na_units_sold)"
   ]
  },
  {
   "attachments": {},
   "cell_type": "markdown",
   "metadata": {},
   "source": [
    "Checking to see how many times 'Units Sold' has NA value:"
   ]
  },
  {
   "cell_type": "code",
   "execution_count": 681,
   "metadata": {},
   "outputs": [
    {
     "name": "stdout",
     "output_type": "stream",
     "text": [
      "104\n"
     ]
    }
   ],
   "source": [
    "na_units_sold_count = df['Units Sold'].isna().sum()\n",
    "print(na_units_sold_count)\n"
   ]
  },
  {
   "cell_type": "code",
   "execution_count": 682,
   "metadata": {},
   "outputs": [
    {
     "name": "stdout",
     "output_type": "stream",
     "text": [
      "         Product    Region  Price  Units Sold   Sale Date\n",
      "10    Product_20  Region_3    NaN         8.0  2022-01-11\n",
      "12     Product_2  Region_3    NaN         6.0  2022-01-13\n",
      "51    Product_17  Region_5    NaN        12.0  2022-02-21\n",
      "59    Product_12  Region_8    NaN         7.0  2022-03-01\n",
      "63    Product_33       NaN    NaN         6.0  2022-03-05\n",
      "...          ...       ...    ...         ...         ...\n",
      "1002  Product_13  Region_3    NaN         8.0  2022-04-05\n",
      "1006  Product_41  Region_3    NaN        18.0  2023-01-26\n",
      "1028  Product_42  Region_6    NaN         8.0  2024-01-19\n",
      "1046   Product_1  Region_6    NaN         8.0  2022-08-02\n",
      "1048         NaN  Region_8    NaN         5.0  2023-12-27\n",
      "\n",
      "[105 rows x 5 columns]\n"
     ]
    }
   ],
   "source": [
    "na_price = df[df['Price'].isna()]\n",
    "print(na_price)"
   ]
  },
  {
   "cell_type": "code",
   "execution_count": 683,
   "metadata": {},
   "outputs": [
    {
     "name": "stdout",
     "output_type": "stream",
     "text": [
      "Number of null entries in 'Price' column: 100\n"
     ]
    }
   ],
   "source": [
    "null_price_count = df_clean['Price'].isnull().sum()\n",
    "print(\"Number of null entries in 'Price' column:\", null_price_count)"
   ]
  },
  {
   "attachments": {},
   "cell_type": "markdown",
   "metadata": {},
   "source": [
    "In order to fill some of the missing 'Price' column entries, the ones that had a product listed, I want to fill the price value with the average of the price of that corresponding product:"
   ]
  },
  {
   "cell_type": "code",
   "execution_count": 684,
   "metadata": {},
   "outputs": [],
   "source": [
    "df_clean['Price'].fillna(df_clean.groupby('Product')['Price'].transform('mean'), inplace=True)"
   ]
  },
  {
   "cell_type": "code",
   "execution_count": 685,
   "metadata": {},
   "outputs": [
    {
     "name": "stdout",
     "output_type": "stream",
     "text": [
      "11\n"
     ]
    }
   ],
   "source": [
    "null_price_count = df_clean['Price'].isnull().sum()\n",
    "print(null_price_count)"
   ]
  },
  {
   "cell_type": "code",
   "execution_count": 686,
   "metadata": {},
   "outputs": [
    {
     "data": {
      "text/html": [
       "<div>\n",
       "<style scoped>\n",
       "    .dataframe tbody tr th:only-of-type {\n",
       "        vertical-align: middle;\n",
       "    }\n",
       "\n",
       "    .dataframe tbody tr th {\n",
       "        vertical-align: top;\n",
       "    }\n",
       "\n",
       "    .dataframe thead th {\n",
       "        text-align: right;\n",
       "    }\n",
       "</style>\n",
       "<table border=\"1\" class=\"dataframe\">\n",
       "  <thead>\n",
       "    <tr style=\"text-align: right;\">\n",
       "      <th></th>\n",
       "      <th>Product</th>\n",
       "      <th>Region</th>\n",
       "      <th>Price</th>\n",
       "      <th>Units Sold</th>\n",
       "      <th>Sale Date</th>\n",
       "    </tr>\n",
       "  </thead>\n",
       "  <tbody>\n",
       "    <tr>\n",
       "      <th>91</th>\n",
       "      <td>NaN</td>\n",
       "      <td>Region_5</td>\n",
       "      <td>NaN</td>\n",
       "      <td>14.0</td>\n",
       "      <td>2022-04-02</td>\n",
       "    </tr>\n",
       "    <tr>\n",
       "      <th>224</th>\n",
       "      <td>NaN</td>\n",
       "      <td>Region_8</td>\n",
       "      <td>NaN</td>\n",
       "      <td>7.0</td>\n",
       "      <td>2022-08-13</td>\n",
       "    </tr>\n",
       "    <tr>\n",
       "      <th>272</th>\n",
       "      <td>NaN</td>\n",
       "      <td>NaN</td>\n",
       "      <td>NaN</td>\n",
       "      <td>NaN</td>\n",
       "      <td>2022-09-30</td>\n",
       "    </tr>\n",
       "    <tr>\n",
       "      <th>307</th>\n",
       "      <td>NaN</td>\n",
       "      <td>Region_8</td>\n",
       "      <td>NaN</td>\n",
       "      <td>5.0</td>\n",
       "      <td>2022-11-04</td>\n",
       "    </tr>\n",
       "    <tr>\n",
       "      <th>412</th>\n",
       "      <td>NaN</td>\n",
       "      <td>Region_10</td>\n",
       "      <td>NaN</td>\n",
       "      <td>9.0</td>\n",
       "      <td>2023-02-17</td>\n",
       "    </tr>\n",
       "    <tr>\n",
       "      <th>664</th>\n",
       "      <td>NaN</td>\n",
       "      <td>Region_10</td>\n",
       "      <td>NaN</td>\n",
       "      <td>14.0</td>\n",
       "      <td>2023-10-27</td>\n",
       "    </tr>\n",
       "    <tr>\n",
       "      <th>725</th>\n",
       "      <td>NaN</td>\n",
       "      <td>Region_8</td>\n",
       "      <td>NaN</td>\n",
       "      <td>5.0</td>\n",
       "      <td>2023-12-27</td>\n",
       "    </tr>\n",
       "    <tr>\n",
       "      <th>740</th>\n",
       "      <td>NaN</td>\n",
       "      <td>Region_5</td>\n",
       "      <td>NaN</td>\n",
       "      <td>10.0</td>\n",
       "      <td>2024-01-11</td>\n",
       "    </tr>\n",
       "    <tr>\n",
       "      <th>826</th>\n",
       "      <td>NaN</td>\n",
       "      <td>Region_10</td>\n",
       "      <td>NaN</td>\n",
       "      <td>13.0</td>\n",
       "      <td>2024-04-06</td>\n",
       "    </tr>\n",
       "    <tr>\n",
       "      <th>966</th>\n",
       "      <td>NaN</td>\n",
       "      <td>Region_2</td>\n",
       "      <td>NaN</td>\n",
       "      <td>13.0</td>\n",
       "      <td>2024-08-24</td>\n",
       "    </tr>\n",
       "    <tr>\n",
       "      <th>990</th>\n",
       "      <td>NaN</td>\n",
       "      <td>Region_2</td>\n",
       "      <td>NaN</td>\n",
       "      <td>NaN</td>\n",
       "      <td>2024-09-17</td>\n",
       "    </tr>\n",
       "  </tbody>\n",
       "</table>\n",
       "</div>"
      ],
      "text/plain": [
       "    Product     Region  Price  Units Sold   Sale Date\n",
       "91      NaN   Region_5    NaN        14.0  2022-04-02\n",
       "224     NaN   Region_8    NaN         7.0  2022-08-13\n",
       "272     NaN        NaN    NaN         NaN  2022-09-30\n",
       "307     NaN   Region_8    NaN         5.0  2022-11-04\n",
       "412     NaN  Region_10    NaN         9.0  2023-02-17\n",
       "664     NaN  Region_10    NaN        14.0  2023-10-27\n",
       "725     NaN   Region_8    NaN         5.0  2023-12-27\n",
       "740     NaN   Region_5    NaN        10.0  2024-01-11\n",
       "826     NaN  Region_10    NaN        13.0  2024-04-06\n",
       "966     NaN   Region_2    NaN        13.0  2024-08-24\n",
       "990     NaN   Region_2    NaN         NaN  2024-09-17"
      ]
     },
     "execution_count": 686,
     "metadata": {},
     "output_type": "execute_result"
    }
   ],
   "source": [
    "df_clean[df_clean['Price'].isnull()]"
   ]
  },
  {
   "attachments": {},
   "cell_type": "markdown",
   "metadata": {},
   "source": [
    "Because the remaining NaN price data also has NaN product information, and there's only 11 entries that this applies to, I will remove them from the data as it wouldn't impact the overall results much at all."
   ]
  },
  {
   "cell_type": "code",
   "execution_count": 687,
   "metadata": {},
   "outputs": [],
   "source": [
    "df_clean.dropna(subset=['Price'], inplace=True)"
   ]
  },
  {
   "cell_type": "code",
   "execution_count": 688,
   "metadata": {},
   "outputs": [
    {
     "name": "stdout",
     "output_type": "stream",
     "text": [
      "          Product    Region        Price  Units Sold   Sale Date\n",
      "count         900       890   989.000000  891.000000         989\n",
      "unique         50        10          NaN         NaN         989\n",
      "top     Product_5  Region_9          NaN         NaN  2022-01-01\n",
      "freq           28       104          NaN         NaN           1\n",
      "mean          NaN       NaN   106.543353   10.068462         NaN\n",
      "std           NaN       NaN   118.608495    3.162779         NaN\n",
      "min           NaN       NaN     0.200000    2.000000         NaN\n",
      "25%           NaN       NaN    32.690000    8.000000         NaN\n",
      "50%           NaN       NaN    83.006842   10.000000         NaN\n",
      "75%           NaN       NaN   138.050000   12.000000         NaN\n",
      "max           NaN       NaN  2143.300000   22.000000         NaN\n",
      "           Product    Region        Price  Units Sold   Sale Date\n",
      "count          947       946   945.000000  946.000000        1050\n",
      "unique          50        10          NaN         NaN        1000\n",
      "top     Product_45  Region_9          NaN         NaN  2022-07-28\n",
      "freq            28       109          NaN         NaN           2\n",
      "mean           NaN       NaN   107.598688   10.048626         NaN\n",
      "std            NaN       NaN   124.020322    3.172261         NaN\n",
      "min            NaN       NaN     0.200000    2.000000         NaN\n",
      "25%            NaN       NaN    29.430000    8.000000         NaN\n",
      "50%            NaN       NaN    78.130000   10.000000         NaN\n",
      "75%            NaN       NaN   142.570000   12.000000         NaN\n",
      "max            NaN       NaN  2143.300000   22.000000         NaN\n"
     ]
    }
   ],
   "source": [
    "print(df_clean.describe(include='all'))\n",
    "print(df.describe(include='all'))"
   ]
  },
  {
   "attachments": {},
   "cell_type": "markdown",
   "metadata": {},
   "source": [
    "When looking at the two DataFrames, there seems to be an outlier in price, so I'm going to check that visually using a scatter plot:"
   ]
  },
  {
   "cell_type": "code",
   "execution_count": 689,
   "metadata": {},
   "outputs": [
    {
     "data": {
      "text/plain": [
       "<Axes: xlabel='Product', ylabel='Price'>"
      ]
     },
     "execution_count": 689,
     "metadata": {},
     "output_type": "execute_result"
    },
    {
     "data": {
      "image/png": "[encoded data removed]",
      "text/plain": [
       "<Figure size 640x480 with 1 Axes>"
      ]
     },
     "metadata": {},
     "output_type": "display_data"
    }
   ],
   "source": [
    "sns.scatterplot(data= df_clean, x = 'Product', y = 'Price')"
   ]
  },
  {
   "attachments": {},
   "cell_type": "markdown",
   "metadata": {},
   "source": [
    "Now I want to check to see which entry is causing the outlier:"
   ]
  },
  {
   "cell_type": "code",
   "execution_count": 690,
   "metadata": {},
   "outputs": [
    {
     "data": {
      "text/html": [
       "<div>\n",
       "<style scoped>\n",
       "    .dataframe tbody tr th:only-of-type {\n",
       "        vertical-align: middle;\n",
       "    }\n",
       "\n",
       "    .dataframe tbody tr th {\n",
       "        vertical-align: top;\n",
       "    }\n",
       "\n",
       "    .dataframe thead th {\n",
       "        text-align: right;\n",
       "    }\n",
       "</style>\n",
       "<table border=\"1\" class=\"dataframe\">\n",
       "  <thead>\n",
       "    <tr style=\"text-align: right;\">\n",
       "      <th></th>\n",
       "      <th>Product</th>\n",
       "      <th>Region</th>\n",
       "      <th>Price</th>\n",
       "      <th>Units Sold</th>\n",
       "      <th>Sale Date</th>\n",
       "    </tr>\n",
       "  </thead>\n",
       "  <tbody>\n",
       "    <tr>\n",
       "      <th>969</th>\n",
       "      <td>Product_15</td>\n",
       "      <td>Region_8</td>\n",
       "      <td>2143.3</td>\n",
       "      <td>5.0</td>\n",
       "      <td>2024-08-27</td>\n",
       "    </tr>\n",
       "  </tbody>\n",
       "</table>\n",
       "</div>"
      ],
      "text/plain": [
       "        Product    Region   Price  Units Sold   Sale Date\n",
       "969  Product_15  Region_8  2143.3         5.0  2024-08-27"
      ]
     },
     "execution_count": 690,
     "metadata": {},
     "output_type": "execute_result"
    }
   ],
   "source": [
    "df_clean[df_clean['Price'] > 1000]"
   ]
  },
  {
   "attachments": {},
   "cell_type": "markdown",
   "metadata": {},
   "source": [
    "Because this price was likely incorreclty input, I can check the average price of the other Product_15 sales, and replace this data with that average:"
   ]
  },
  {
   "cell_type": "code",
   "execution_count": 691,
   "metadata": {},
   "outputs": [
    {
     "data": {
      "text/plain": [
       "116.89"
      ]
     },
     "execution_count": 691,
     "metadata": {},
     "output_type": "execute_result"
    }
   ],
   "source": [
    "product_15_mean_price = df_clean[(df_clean['Product'] == 'Product_15') & (df_clean['Price'] < 2000)]['Price'].mean()\n",
    "product_15_mean_price.round(2)\n"
   ]
  },
  {
   "attachments": {},
   "cell_type": "markdown",
   "metadata": {},
   "source": [
    "I will now replace the outlier price value with the mean we found for the prices of the other product_15 entries:"
   ]
  },
  {
   "cell_type": "code",
   "execution_count": 692,
   "metadata": {},
   "outputs": [],
   "source": [
    "df_clean.loc[(df_clean['Product'] == 'Product_15') & (df_clean['Price'] > 2000), 'Price'] = product_15_mean_price.round(2)"
   ]
  },
  {
   "attachments": {},
   "cell_type": "markdown",
   "metadata": {},
   "source": [
    "I'll now check to see how the scatterplot improved:"
   ]
  },
  {
   "cell_type": "code",
   "execution_count": 693,
   "metadata": {},
   "outputs": [
    {
     "data": {
      "text/plain": [
       "<Axes: xlabel='Product', ylabel='Price'>"
      ]
     },
     "execution_count": 693,
     "metadata": {},
     "output_type": "execute_result"
    },
    {
     "data": {
      "image/png": "[encoded data removed]",
      "text/plain": [
       "<Figure size 640x480 with 1 Axes>"
      ]
     },
     "metadata": {},
     "output_type": "display_data"
    }
   ],
   "source": [
    "sns.scatterplot(data= df_clean, x = 'Product', y = 'Price')"
   ]
  },
  {
   "cell_type": "code",
   "execution_count": 694,
   "metadata": {},
   "outputs": [
    {
     "data": {
      "text/html": [
       "<div>\n",
       "<style scoped>\n",
       "    .dataframe tbody tr th:only-of-type {\n",
       "        vertical-align: middle;\n",
       "    }\n",
       "\n",
       "    .dataframe tbody tr th {\n",
       "        vertical-align: top;\n",
       "    }\n",
       "\n",
       "    .dataframe thead th {\n",
       "        text-align: right;\n",
       "    }\n",
       "</style>\n",
       "<table border=\"1\" class=\"dataframe\">\n",
       "  <thead>\n",
       "    <tr style=\"text-align: right;\">\n",
       "      <th></th>\n",
       "      <th>Product</th>\n",
       "      <th>Region</th>\n",
       "      <th>Price</th>\n",
       "      <th>Units Sold</th>\n",
       "      <th>Sale Date</th>\n",
       "    </tr>\n",
       "  </thead>\n",
       "  <tbody>\n",
       "    <tr>\n",
       "      <th>count</th>\n",
       "      <td>900</td>\n",
       "      <td>890</td>\n",
       "      <td>989.000000</td>\n",
       "      <td>891.000000</td>\n",
       "      <td>989</td>\n",
       "    </tr>\n",
       "    <tr>\n",
       "      <th>unique</th>\n",
       "      <td>50</td>\n",
       "      <td>10</td>\n",
       "      <td>NaN</td>\n",
       "      <td>NaN</td>\n",
       "      <td>989</td>\n",
       "    </tr>\n",
       "    <tr>\n",
       "      <th>top</th>\n",
       "      <td>Product_5</td>\n",
       "      <td>Region_9</td>\n",
       "      <td>NaN</td>\n",
       "      <td>NaN</td>\n",
       "      <td>2022-01-01</td>\n",
       "    </tr>\n",
       "    <tr>\n",
       "      <th>freq</th>\n",
       "      <td>28</td>\n",
       "      <td>104</td>\n",
       "      <td>NaN</td>\n",
       "      <td>NaN</td>\n",
       "      <td>1</td>\n",
       "    </tr>\n",
       "    <tr>\n",
       "      <th>mean</th>\n",
       "      <td>NaN</td>\n",
       "      <td>NaN</td>\n",
       "      <td>104.494404</td>\n",
       "      <td>10.068462</td>\n",
       "      <td>NaN</td>\n",
       "    </tr>\n",
       "    <tr>\n",
       "      <th>std</th>\n",
       "      <td>NaN</td>\n",
       "      <td>NaN</td>\n",
       "      <td>99.323301</td>\n",
       "      <td>3.162779</td>\n",
       "      <td>NaN</td>\n",
       "    </tr>\n",
       "    <tr>\n",
       "      <th>min</th>\n",
       "      <td>NaN</td>\n",
       "      <td>NaN</td>\n",
       "      <td>0.200000</td>\n",
       "      <td>2.000000</td>\n",
       "      <td>NaN</td>\n",
       "    </tr>\n",
       "    <tr>\n",
       "      <th>25%</th>\n",
       "      <td>NaN</td>\n",
       "      <td>NaN</td>\n",
       "      <td>32.690000</td>\n",
       "      <td>8.000000</td>\n",
       "      <td>NaN</td>\n",
       "    </tr>\n",
       "    <tr>\n",
       "      <th>50%</th>\n",
       "      <td>NaN</td>\n",
       "      <td>NaN</td>\n",
       "      <td>83.006842</td>\n",
       "      <td>10.000000</td>\n",
       "      <td>NaN</td>\n",
       "    </tr>\n",
       "    <tr>\n",
       "      <th>75%</th>\n",
       "      <td>NaN</td>\n",
       "      <td>NaN</td>\n",
       "      <td>137.660000</td>\n",
       "      <td>12.000000</td>\n",
       "      <td>NaN</td>\n",
       "    </tr>\n",
       "    <tr>\n",
       "      <th>max</th>\n",
       "      <td>NaN</td>\n",
       "      <td>NaN</td>\n",
       "      <td>713.290000</td>\n",
       "      <td>22.000000</td>\n",
       "      <td>NaN</td>\n",
       "    </tr>\n",
       "  </tbody>\n",
       "</table>\n",
       "</div>"
      ],
      "text/plain": [
       "          Product    Region       Price  Units Sold   Sale Date\n",
       "count         900       890  989.000000  891.000000         989\n",
       "unique         50        10         NaN         NaN         989\n",
       "top     Product_5  Region_9         NaN         NaN  2022-01-01\n",
       "freq           28       104         NaN         NaN           1\n",
       "mean          NaN       NaN  104.494404   10.068462         NaN\n",
       "std           NaN       NaN   99.323301    3.162779         NaN\n",
       "min           NaN       NaN    0.200000    2.000000         NaN\n",
       "25%           NaN       NaN   32.690000    8.000000         NaN\n",
       "50%           NaN       NaN   83.006842   10.000000         NaN\n",
       "75%           NaN       NaN  137.660000   12.000000         NaN\n",
       "max           NaN       NaN  713.290000   22.000000         NaN"
      ]
     },
     "execution_count": 694,
     "metadata": {},
     "output_type": "execute_result"
    }
   ],
   "source": [
    "df_clean.describe(include = 'all')"
   ]
  },
  {
   "cell_type": "code",
   "execution_count": 695,
   "metadata": {},
   "outputs": [
    {
     "data": {
      "text/html": [
       "<div>\n",
       "<style scoped>\n",
       "    .dataframe tbody tr th:only-of-type {\n",
       "        vertical-align: middle;\n",
       "    }\n",
       "\n",
       "    .dataframe tbody tr th {\n",
       "        vertical-align: top;\n",
       "    }\n",
       "\n",
       "    .dataframe thead th {\n",
       "        text-align: right;\n",
       "    }\n",
       "</style>\n",
       "<table border=\"1\" class=\"dataframe\">\n",
       "  <thead>\n",
       "    <tr style=\"text-align: right;\">\n",
       "      <th></th>\n",
       "      <th>Product</th>\n",
       "      <th>Region</th>\n",
       "      <th>Price</th>\n",
       "      <th>Units Sold</th>\n",
       "      <th>Sale Date</th>\n",
       "    </tr>\n",
       "  </thead>\n",
       "  <tbody>\n",
       "    <tr>\n",
       "      <th>count</th>\n",
       "      <td>947</td>\n",
       "      <td>946</td>\n",
       "      <td>945.000000</td>\n",
       "      <td>946.000000</td>\n",
       "      <td>1050</td>\n",
       "    </tr>\n",
       "    <tr>\n",
       "      <th>unique</th>\n",
       "      <td>50</td>\n",
       "      <td>10</td>\n",
       "      <td>NaN</td>\n",
       "      <td>NaN</td>\n",
       "      <td>1000</td>\n",
       "    </tr>\n",
       "    <tr>\n",
       "      <th>top</th>\n",
       "      <td>Product_45</td>\n",
       "      <td>Region_9</td>\n",
       "      <td>NaN</td>\n",
       "      <td>NaN</td>\n",
       "      <td>2022-07-28</td>\n",
       "    </tr>\n",
       "    <tr>\n",
       "      <th>freq</th>\n",
       "      <td>28</td>\n",
       "      <td>109</td>\n",
       "      <td>NaN</td>\n",
       "      <td>NaN</td>\n",
       "      <td>2</td>\n",
       "    </tr>\n",
       "    <tr>\n",
       "      <th>mean</th>\n",
       "      <td>NaN</td>\n",
       "      <td>NaN</td>\n",
       "      <td>107.598688</td>\n",
       "      <td>10.048626</td>\n",
       "      <td>NaN</td>\n",
       "    </tr>\n",
       "    <tr>\n",
       "      <th>std</th>\n",
       "      <td>NaN</td>\n",
       "      <td>NaN</td>\n",
       "      <td>124.020322</td>\n",
       "      <td>3.172261</td>\n",
       "      <td>NaN</td>\n",
       "    </tr>\n",
       "    <tr>\n",
       "      <th>min</th>\n",
       "      <td>NaN</td>\n",
       "      <td>NaN</td>\n",
       "      <td>0.200000</td>\n",
       "      <td>2.000000</td>\n",
       "      <td>NaN</td>\n",
       "    </tr>\n",
       "    <tr>\n",
       "      <th>25%</th>\n",
       "      <td>NaN</td>\n",
       "      <td>NaN</td>\n",
       "      <td>29.430000</td>\n",
       "      <td>8.000000</td>\n",
       "      <td>NaN</td>\n",
       "    </tr>\n",
       "    <tr>\n",
       "      <th>50%</th>\n",
       "      <td>NaN</td>\n",
       "      <td>NaN</td>\n",
       "      <td>78.130000</td>\n",
       "      <td>10.000000</td>\n",
       "      <td>NaN</td>\n",
       "    </tr>\n",
       "    <tr>\n",
       "      <th>75%</th>\n",
       "      <td>NaN</td>\n",
       "      <td>NaN</td>\n",
       "      <td>142.570000</td>\n",
       "      <td>12.000000</td>\n",
       "      <td>NaN</td>\n",
       "    </tr>\n",
       "    <tr>\n",
       "      <th>max</th>\n",
       "      <td>NaN</td>\n",
       "      <td>NaN</td>\n",
       "      <td>2143.300000</td>\n",
       "      <td>22.000000</td>\n",
       "      <td>NaN</td>\n",
       "    </tr>\n",
       "  </tbody>\n",
       "</table>\n",
       "</div>"
      ],
      "text/plain": [
       "           Product    Region        Price  Units Sold   Sale Date\n",
       "count          947       946   945.000000  946.000000        1050\n",
       "unique          50        10          NaN         NaN        1000\n",
       "top     Product_45  Region_9          NaN         NaN  2022-07-28\n",
       "freq            28       109          NaN         NaN           2\n",
       "mean           NaN       NaN   107.598688   10.048626         NaN\n",
       "std            NaN       NaN   124.020322    3.172261         NaN\n",
       "min            NaN       NaN     0.200000    2.000000         NaN\n",
       "25%            NaN       NaN    29.430000    8.000000         NaN\n",
       "50%            NaN       NaN    78.130000   10.000000         NaN\n",
       "75%            NaN       NaN   142.570000   12.000000         NaN\n",
       "max            NaN       NaN  2143.300000   22.000000         NaN"
      ]
     },
     "execution_count": 695,
     "metadata": {},
     "output_type": "execute_result"
    }
   ],
   "source": [
    "df.describe(include = 'all')"
   ]
  },
  {
   "cell_type": "code",
   "execution_count": 696,
   "metadata": {},
   "outputs": [],
   "source": [
    "df_clean_group_product = df_clean.groupby('Product').apply(lambda x: x.reset_index(drop=True))\n"
   ]
  },
  {
   "cell_type": "code",
   "execution_count": 697,
   "metadata": {},
   "outputs": [
    {
     "name": "stdout",
     "output_type": "stream",
     "text": [
      "                Product     Region       Price  Units Sold   Sale Date\n",
      "Product                                                               \n",
      "Product_2 0   Product_2   Region_3  133.226875         6.0  2022-01-13\n",
      "          1   Product_2   Region_9  296.030000        13.0  2022-02-06\n",
      "          2   Product_2   Region_2    2.140000         7.0  2022-03-22\n",
      "          3   Product_2   Region_1   29.390000        16.0  2022-04-21\n",
      "          4   Product_2   Region_1  102.290000        17.0  2022-06-12\n",
      "          5   Product_2        NaN  104.480000         8.0  2022-06-15\n",
      "          6   Product_2   Region_8   26.560000        13.0  2022-06-20\n",
      "          7   Product_2   Region_3  242.770000         7.0  2022-10-17\n",
      "          8   Product_2   Region_3   99.020000         4.0  2022-12-16\n",
      "          9   Product_2   Region_2  203.410000         9.0  2022-12-26\n",
      "          10  Product_2   Region_9   96.340000        14.0  2023-02-22\n",
      "          11  Product_2   Region_4  347.200000         NaN  2023-05-04\n",
      "          12  Product_2   Region_4  133.226875         9.0  2023-08-17\n",
      "          13  Product_2   Region_2  340.040000        10.0  2023-09-11\n",
      "          14  Product_2   Region_7  133.226875         7.0  2023-12-24\n",
      "          15  Product_2   Region_1   18.000000        10.0  2024-01-01\n",
      "          16  Product_2  Region_10   93.400000         NaN  2024-04-26\n",
      "          17  Product_2  Region_10   87.120000        16.0  2024-07-15\n",
      "          18  Product_2  Region_10   43.440000        15.0  2024-09-25\n"
     ]
    }
   ],
   "source": [
    "print(df_clean_group_product[df_clean_group_product['Product'] == 'Product_2'])"
   ]
  },
  {
   "attachments": {},
   "cell_type": "markdown",
   "metadata": {},
   "source": [
    "Reviewing the individual product data as a group may help me to think of methods to fill some of the remaining missing data. Seems as though for missing units sold, it would be appropriate to calculate the average order size per product and assume that amount was sold when there's no entry."
   ]
  },
  {
   "cell_type": "code",
   "execution_count": 698,
   "metadata": {},
   "outputs": [
    {
     "name": "stdout",
     "output_type": "stream",
     "text": [
      "        Product     Region   Price  Units Sold   Sale Date\n",
      "16   Product_43   Region_6   68.53         NaN  2022-01-17\n",
      "62    Product_5  Region_10   71.01         NaN  2022-03-04\n",
      "81   Product_23   Region_5    9.93         NaN  2022-03-23\n",
      "86    Product_5   Region_6   44.88         NaN  2022-03-28\n",
      "93   Product_29   Region_6   87.63         NaN  2022-04-04\n",
      "..          ...        ...     ...         ...         ...\n",
      "968  Product_45  Region_10    5.48         NaN  2024-08-26\n",
      "971  Product_11   Region_5   77.22         NaN  2024-08-29\n",
      "979  Product_21   Region_8  118.93         NaN  2024-09-06\n",
      "984  Product_44   Region_9  101.69         NaN  2024-09-11\n",
      "988  Product_42   Region_9  240.97         NaN  2024-09-15\n",
      "\n",
      "[98 rows x 5 columns]\n"
     ]
    }
   ],
   "source": [
    "print(df_clean[df_clean['Units Sold'].isnull()])"
   ]
  },
  {
   "cell_type": "code",
   "execution_count": 699,
   "metadata": {},
   "outputs": [],
   "source": [
    "df_clean['Units Sold'].fillna(df_clean.groupby('Product')['Units Sold'].transform('mean'), inplace=True)"
   ]
  },
  {
   "cell_type": "code",
   "execution_count": 700,
   "metadata": {},
   "outputs": [
    {
     "name": "stdout",
     "output_type": "stream",
     "text": [
      "    Product     Region   Price  Units Sold   Sale Date\n",
      "301     NaN   Region_2  133.75         NaN  2022-10-29\n",
      "340     NaN   Region_1   36.82         NaN  2022-12-07\n",
      "567     NaN   Region_4  266.88         NaN  2023-07-22\n",
      "806     NaN   Region_9    7.58         NaN  2024-03-17\n",
      "817     NaN   Region_3  101.54         NaN  2024-03-28\n",
      "851     NaN  Region_10  195.71         NaN  2024-05-01\n",
      "872     NaN  Region_10  135.39         NaN  2024-05-22\n"
     ]
    }
   ],
   "source": [
    "print(df_clean[df_clean['Units Sold'].isnull()])"
   ]
  },
  {
   "attachments": {},
   "cell_type": "markdown",
   "metadata": {},
   "source": [
    "These remaining 7 entries have no Product or Units Sold data, so I'll go ahead and drop these from our DataFrame"
   ]
  },
  {
   "cell_type": "code",
   "execution_count": 701,
   "metadata": {},
   "outputs": [],
   "source": [
    "null_units_sold = df_clean[df_clean['Units Sold'].isnull()]\n",
    "null_units_sold_indexes = null_units_sold.index\n",
    "df_clean.drop(null_units_sold_indexes, inplace=True)"
   ]
  },
  {
   "cell_type": "code",
   "execution_count": 702,
   "metadata": {},
   "outputs": [
    {
     "name": "stdout",
     "output_type": "stream",
     "text": [
      "Empty DataFrame\n",
      "Columns: [Product, Region, Price, Units Sold, Sale Date]\n",
      "Index: []\n"
     ]
    }
   ],
   "source": [
    "print(df_clean[df_clean['Units Sold'].isnull()])"
   ]
  },
  {
   "cell_type": "code",
   "execution_count": 703,
   "metadata": {},
   "outputs": [
    {
     "data": {
      "text/html": [
       "<div>\n",
       "<style scoped>\n",
       "    .dataframe tbody tr th:only-of-type {\n",
       "        vertical-align: middle;\n",
       "    }\n",
       "\n",
       "    .dataframe tbody tr th {\n",
       "        vertical-align: top;\n",
       "    }\n",
       "\n",
       "    .dataframe thead th {\n",
       "        text-align: right;\n",
       "    }\n",
       "</style>\n",
       "<table border=\"1\" class=\"dataframe\">\n",
       "  <thead>\n",
       "    <tr style=\"text-align: right;\">\n",
       "      <th></th>\n",
       "      <th>Product</th>\n",
       "      <th>Region</th>\n",
       "      <th>Price</th>\n",
       "      <th>Units Sold</th>\n",
       "      <th>Sale Date</th>\n",
       "    </tr>\n",
       "  </thead>\n",
       "  <tbody>\n",
       "    <tr>\n",
       "      <th>count</th>\n",
       "      <td>900</td>\n",
       "      <td>883</td>\n",
       "      <td>982.000000</td>\n",
       "      <td>982.000000</td>\n",
       "      <td>982</td>\n",
       "    </tr>\n",
       "    <tr>\n",
       "      <th>unique</th>\n",
       "      <td>50</td>\n",
       "      <td>10</td>\n",
       "      <td>NaN</td>\n",
       "      <td>NaN</td>\n",
       "      <td>982</td>\n",
       "    </tr>\n",
       "    <tr>\n",
       "      <th>top</th>\n",
       "      <td>Product_5</td>\n",
       "      <td>Region_9</td>\n",
       "      <td>NaN</td>\n",
       "      <td>NaN</td>\n",
       "      <td>2022-01-01</td>\n",
       "    </tr>\n",
       "    <tr>\n",
       "      <th>freq</th>\n",
       "      <td>28</td>\n",
       "      <td>103</td>\n",
       "      <td>NaN</td>\n",
       "      <td>NaN</td>\n",
       "      <td>1</td>\n",
       "    </tr>\n",
       "    <tr>\n",
       "      <th>mean</th>\n",
       "      <td>NaN</td>\n",
       "      <td>NaN</td>\n",
       "      <td>104.345515</td>\n",
       "      <td>10.061387</td>\n",
       "      <td>NaN</td>\n",
       "    </tr>\n",
       "    <tr>\n",
       "      <th>std</th>\n",
       "      <td>NaN</td>\n",
       "      <td>NaN</td>\n",
       "      <td>99.418463</td>\n",
       "      <td>3.025656</td>\n",
       "      <td>NaN</td>\n",
       "    </tr>\n",
       "    <tr>\n",
       "      <th>min</th>\n",
       "      <td>NaN</td>\n",
       "      <td>NaN</td>\n",
       "      <td>0.200000</td>\n",
       "      <td>2.000000</td>\n",
       "      <td>NaN</td>\n",
       "    </tr>\n",
       "    <tr>\n",
       "      <th>25%</th>\n",
       "      <td>NaN</td>\n",
       "      <td>NaN</td>\n",
       "      <td>32.555000</td>\n",
       "      <td>8.000000</td>\n",
       "      <td>NaN</td>\n",
       "    </tr>\n",
       "    <tr>\n",
       "      <th>50%</th>\n",
       "      <td>NaN</td>\n",
       "      <td>NaN</td>\n",
       "      <td>82.650000</td>\n",
       "      <td>10.000000</td>\n",
       "      <td>NaN</td>\n",
       "    </tr>\n",
       "    <tr>\n",
       "      <th>75%</th>\n",
       "      <td>NaN</td>\n",
       "      <td>NaN</td>\n",
       "      <td>137.615000</td>\n",
       "      <td>12.000000</td>\n",
       "      <td>NaN</td>\n",
       "    </tr>\n",
       "    <tr>\n",
       "      <th>max</th>\n",
       "      <td>NaN</td>\n",
       "      <td>NaN</td>\n",
       "      <td>713.290000</td>\n",
       "      <td>22.000000</td>\n",
       "      <td>NaN</td>\n",
       "    </tr>\n",
       "  </tbody>\n",
       "</table>\n",
       "</div>"
      ],
      "text/plain": [
       "          Product    Region       Price  Units Sold   Sale Date\n",
       "count         900       883  982.000000  982.000000         982\n",
       "unique         50        10         NaN         NaN         982\n",
       "top     Product_5  Region_9         NaN         NaN  2022-01-01\n",
       "freq           28       103         NaN         NaN           1\n",
       "mean          NaN       NaN  104.345515   10.061387         NaN\n",
       "std           NaN       NaN   99.418463    3.025656         NaN\n",
       "min           NaN       NaN    0.200000    2.000000         NaN\n",
       "25%           NaN       NaN   32.555000    8.000000         NaN\n",
       "50%           NaN       NaN   82.650000   10.000000         NaN\n",
       "75%           NaN       NaN  137.615000   12.000000         NaN\n",
       "max           NaN       NaN  713.290000   22.000000         NaN"
      ]
     },
     "execution_count": 703,
     "metadata": {},
     "output_type": "execute_result"
    }
   ],
   "source": [
    "df_clean.describe(include='all')\n"
   ]
  },
  {
   "cell_type": "code",
   "execution_count": 704,
   "metadata": {},
   "outputs": [
    {
     "data": {
      "text/html": [
       "<div>\n",
       "<style scoped>\n",
       "    .dataframe tbody tr th:only-of-type {\n",
       "        vertical-align: middle;\n",
       "    }\n",
       "\n",
       "    .dataframe tbody tr th {\n",
       "        vertical-align: top;\n",
       "    }\n",
       "\n",
       "    .dataframe thead th {\n",
       "        text-align: right;\n",
       "    }\n",
       "</style>\n",
       "<table border=\"1\" class=\"dataframe\">\n",
       "  <thead>\n",
       "    <tr style=\"text-align: right;\">\n",
       "      <th></th>\n",
       "      <th>Product</th>\n",
       "      <th>Region</th>\n",
       "      <th>Price</th>\n",
       "      <th>Units Sold</th>\n",
       "      <th>Sale Date</th>\n",
       "    </tr>\n",
       "  </thead>\n",
       "  <tbody>\n",
       "    <tr>\n",
       "      <th>count</th>\n",
       "      <td>947</td>\n",
       "      <td>946</td>\n",
       "      <td>945.000000</td>\n",
       "      <td>946.000000</td>\n",
       "      <td>1050</td>\n",
       "    </tr>\n",
       "    <tr>\n",
       "      <th>unique</th>\n",
       "      <td>50</td>\n",
       "      <td>10</td>\n",
       "      <td>NaN</td>\n",
       "      <td>NaN</td>\n",
       "      <td>1000</td>\n",
       "    </tr>\n",
       "    <tr>\n",
       "      <th>top</th>\n",
       "      <td>Product_45</td>\n",
       "      <td>Region_9</td>\n",
       "      <td>NaN</td>\n",
       "      <td>NaN</td>\n",
       "      <td>2022-07-28</td>\n",
       "    </tr>\n",
       "    <tr>\n",
       "      <th>freq</th>\n",
       "      <td>28</td>\n",
       "      <td>109</td>\n",
       "      <td>NaN</td>\n",
       "      <td>NaN</td>\n",
       "      <td>2</td>\n",
       "    </tr>\n",
       "    <tr>\n",
       "      <th>mean</th>\n",
       "      <td>NaN</td>\n",
       "      <td>NaN</td>\n",
       "      <td>107.598688</td>\n",
       "      <td>10.048626</td>\n",
       "      <td>NaN</td>\n",
       "    </tr>\n",
       "    <tr>\n",
       "      <th>std</th>\n",
       "      <td>NaN</td>\n",
       "      <td>NaN</td>\n",
       "      <td>124.020322</td>\n",
       "      <td>3.172261</td>\n",
       "      <td>NaN</td>\n",
       "    </tr>\n",
       "    <tr>\n",
       "      <th>min</th>\n",
       "      <td>NaN</td>\n",
       "      <td>NaN</td>\n",
       "      <td>0.200000</td>\n",
       "      <td>2.000000</td>\n",
       "      <td>NaN</td>\n",
       "    </tr>\n",
       "    <tr>\n",
       "      <th>25%</th>\n",
       "      <td>NaN</td>\n",
       "      <td>NaN</td>\n",
       "      <td>29.430000</td>\n",
       "      <td>8.000000</td>\n",
       "      <td>NaN</td>\n",
       "    </tr>\n",
       "    <tr>\n",
       "      <th>50%</th>\n",
       "      <td>NaN</td>\n",
       "      <td>NaN</td>\n",
       "      <td>78.130000</td>\n",
       "      <td>10.000000</td>\n",
       "      <td>NaN</td>\n",
       "    </tr>\n",
       "    <tr>\n",
       "      <th>75%</th>\n",
       "      <td>NaN</td>\n",
       "      <td>NaN</td>\n",
       "      <td>142.570000</td>\n",
       "      <td>12.000000</td>\n",
       "      <td>NaN</td>\n",
       "    </tr>\n",
       "    <tr>\n",
       "      <th>max</th>\n",
       "      <td>NaN</td>\n",
       "      <td>NaN</td>\n",
       "      <td>2143.300000</td>\n",
       "      <td>22.000000</td>\n",
       "      <td>NaN</td>\n",
       "    </tr>\n",
       "  </tbody>\n",
       "</table>\n",
       "</div>"
      ],
      "text/plain": [
       "           Product    Region        Price  Units Sold   Sale Date\n",
       "count          947       946   945.000000  946.000000        1050\n",
       "unique          50        10          NaN         NaN        1000\n",
       "top     Product_45  Region_9          NaN         NaN  2022-07-28\n",
       "freq            28       109          NaN         NaN           2\n",
       "mean           NaN       NaN   107.598688   10.048626         NaN\n",
       "std            NaN       NaN   124.020322    3.172261         NaN\n",
       "min            NaN       NaN     0.200000    2.000000         NaN\n",
       "25%            NaN       NaN    29.430000    8.000000         NaN\n",
       "50%            NaN       NaN    78.130000   10.000000         NaN\n",
       "75%            NaN       NaN   142.570000   12.000000         NaN\n",
       "max            NaN       NaN  2143.300000   22.000000         NaN"
      ]
     },
     "execution_count": 704,
     "metadata": {},
     "output_type": "execute_result"
    }
   ],
   "source": [
    "df.describe(include='all')"
   ]
  },
  {
   "cell_type": "code",
   "execution_count": 705,
   "metadata": {},
   "outputs": [
    {
     "name": "stdout",
     "output_type": "stream",
     "text": [
      "<class 'pandas.core.frame.DataFrame'>\n",
      "Index: 982 entries, 0 to 999\n",
      "Data columns (total 5 columns):\n",
      " #   Column      Non-Null Count  Dtype  \n",
      "---  ------      --------------  -----  \n",
      " 0   Product     900 non-null    object \n",
      " 1   Region      883 non-null    object \n",
      " 2   Price       982 non-null    float64\n",
      " 3   Units Sold  982 non-null    float64\n",
      " 4   Sale Date   982 non-null    object \n",
      "dtypes: float64(2), object(3)\n",
      "memory usage: 46.0+ KB\n"
     ]
    }
   ],
   "source": [
    "df_clean.info()"
   ]
  },
  {
   "cell_type": "code",
   "execution_count": 706,
   "metadata": {},
   "outputs": [
    {
     "name": "stdout",
     "output_type": "stream",
     "text": [
      "<class 'pandas.core.frame.DataFrame'>\n",
      "RangeIndex: 1050 entries, 0 to 1049\n",
      "Data columns (total 5 columns):\n",
      " #   Column      Non-Null Count  Dtype  \n",
      "---  ------      --------------  -----  \n",
      " 0   Product     947 non-null    object \n",
      " 1   Region      946 non-null    object \n",
      " 2   Price       945 non-null    float64\n",
      " 3   Units Sold  946 non-null    float64\n",
      " 4   Sale Date   1050 non-null   object \n",
      "dtypes: float64(2), object(3)\n",
      "memory usage: 41.1+ KB\n"
     ]
    }
   ],
   "source": [
    "df.info()"
   ]
  },
  {
   "cell_type": "code",
   "execution_count": 707,
   "metadata": {},
   "outputs": [],
   "source": [
    "df_clean['Units Sold'] = df_clean['Units Sold'].astype(int)"
   ]
  },
  {
   "cell_type": "code",
   "execution_count": 708,
   "metadata": {},
   "outputs": [
    {
     "data": {
      "text/plain": [
       "82"
      ]
     },
     "execution_count": 708,
     "metadata": {},
     "output_type": "execute_result"
    }
   ],
   "source": [
    "df_clean['Product'].isnull().sum()"
   ]
  },
  {
   "cell_type": "code",
   "execution_count": 709,
   "metadata": {},
   "outputs": [],
   "source": [
    "product_is_null = df_clean[df_clean['Product'].isnull()]"
   ]
  },
  {
   "cell_type": "code",
   "execution_count": 710,
   "metadata": {},
   "outputs": [
    {
     "data": {
      "image/png": "[encoded data removed]",
      "text/plain": [
       "<Figure size 640x480 with 1 Axes>"
      ]
     },
     "metadata": {},
     "output_type": "display_data"
    }
   ],
   "source": [
    "sns.barplot(data=product_is_null, x='Region', y='Units Sold')\n",
    "plt.xticks(rotation=90)\n",
    "plt.ylabel('Units Sold of Null Product')\n",
    "plt.show()"
   ]
  },
  {
   "attachments": {},
   "cell_type": "markdown",
   "metadata": {},
   "source": [
    "To enable further analysis, I want to add a column to my DataFrame called 'Revenue' which would simply be the product of price and units sold:"
   ]
  },
  {
   "cell_type": "code",
   "execution_count": 711,
   "metadata": {},
   "outputs": [],
   "source": [
    "df_clean['Revenue'] = df_clean['Price'] * df_clean['Units Sold']"
   ]
  },
  {
   "cell_type": "code",
   "execution_count": 712,
   "metadata": {},
   "outputs": [
    {
     "data": {
      "text/html": [
       "<div>\n",
       "<style scoped>\n",
       "    .dataframe tbody tr th:only-of-type {\n",
       "        vertical-align: middle;\n",
       "    }\n",
       "\n",
       "    .dataframe tbody tr th {\n",
       "        vertical-align: top;\n",
       "    }\n",
       "\n",
       "    .dataframe thead th {\n",
       "        text-align: right;\n",
       "    }\n",
       "</style>\n",
       "<table border=\"1\" class=\"dataframe\">\n",
       "  <thead>\n",
       "    <tr style=\"text-align: right;\">\n",
       "      <th></th>\n",
       "      <th>Product</th>\n",
       "      <th>Region</th>\n",
       "      <th>Price</th>\n",
       "      <th>Units Sold</th>\n",
       "      <th>Sale Date</th>\n",
       "      <th>Revenue</th>\n",
       "    </tr>\n",
       "  </thead>\n",
       "  <tbody>\n",
       "    <tr>\n",
       "      <th>0</th>\n",
       "      <td>NaN</td>\n",
       "      <td>Region_6</td>\n",
       "      <td>75.96</td>\n",
       "      <td>10</td>\n",
       "      <td>2022-01-01</td>\n",
       "      <td>759.60</td>\n",
       "    </tr>\n",
       "    <tr>\n",
       "      <th>1</th>\n",
       "      <td>NaN</td>\n",
       "      <td>Region_1</td>\n",
       "      <td>175.78</td>\n",
       "      <td>8</td>\n",
       "      <td>2022-01-02</td>\n",
       "      <td>1406.24</td>\n",
       "    </tr>\n",
       "    <tr>\n",
       "      <th>2</th>\n",
       "      <td>Product_46</td>\n",
       "      <td>Region_3</td>\n",
       "      <td>20.43</td>\n",
       "      <td>12</td>\n",
       "      <td>2022-01-03</td>\n",
       "      <td>245.16</td>\n",
       "    </tr>\n",
       "    <tr>\n",
       "      <th>3</th>\n",
       "      <td>Product_36</td>\n",
       "      <td>Region_1</td>\n",
       "      <td>12.77</td>\n",
       "      <td>10</td>\n",
       "      <td>2022-01-04</td>\n",
       "      <td>127.70</td>\n",
       "    </tr>\n",
       "    <tr>\n",
       "      <th>4</th>\n",
       "      <td>Product_17</td>\n",
       "      <td>Region_6</td>\n",
       "      <td>125.69</td>\n",
       "      <td>6</td>\n",
       "      <td>2022-01-05</td>\n",
       "      <td>754.14</td>\n",
       "    </tr>\n",
       "    <tr>\n",
       "      <th>...</th>\n",
       "      <td>...</td>\n",
       "      <td>...</td>\n",
       "      <td>...</td>\n",
       "      <td>...</td>\n",
       "      <td>...</td>\n",
       "      <td>...</td>\n",
       "    </tr>\n",
       "    <tr>\n",
       "      <th>995</th>\n",
       "      <td>NaN</td>\n",
       "      <td>Region_7</td>\n",
       "      <td>31.83</td>\n",
       "      <td>13</td>\n",
       "      <td>2024-09-22</td>\n",
       "      <td>413.79</td>\n",
       "    </tr>\n",
       "    <tr>\n",
       "      <th>996</th>\n",
       "      <td>Product_36</td>\n",
       "      <td>NaN</td>\n",
       "      <td>46.19</td>\n",
       "      <td>9</td>\n",
       "      <td>2024-09-23</td>\n",
       "      <td>415.71</td>\n",
       "    </tr>\n",
       "    <tr>\n",
       "      <th>997</th>\n",
       "      <td>NaN</td>\n",
       "      <td>Region_7</td>\n",
       "      <td>311.80</td>\n",
       "      <td>13</td>\n",
       "      <td>2024-09-24</td>\n",
       "      <td>4053.40</td>\n",
       "    </tr>\n",
       "    <tr>\n",
       "      <th>998</th>\n",
       "      <td>Product_2</td>\n",
       "      <td>Region_10</td>\n",
       "      <td>43.44</td>\n",
       "      <td>15</td>\n",
       "      <td>2024-09-25</td>\n",
       "      <td>651.60</td>\n",
       "    </tr>\n",
       "    <tr>\n",
       "      <th>999</th>\n",
       "      <td>Product_35</td>\n",
       "      <td>Region_8</td>\n",
       "      <td>56.95</td>\n",
       "      <td>6</td>\n",
       "      <td>2024-09-26</td>\n",
       "      <td>341.70</td>\n",
       "    </tr>\n",
       "  </tbody>\n",
       "</table>\n",
       "<p>982 rows × 6 columns</p>\n",
       "</div>"
      ],
      "text/plain": [
       "        Product     Region   Price  Units Sold   Sale Date  Revenue\n",
       "0           NaN   Region_6   75.96          10  2022-01-01   759.60\n",
       "1           NaN   Region_1  175.78           8  2022-01-02  1406.24\n",
       "2    Product_46   Region_3   20.43          12  2022-01-03   245.16\n",
       "3    Product_36   Region_1   12.77          10  2022-01-04   127.70\n",
       "4    Product_17   Region_6  125.69           6  2022-01-05   754.14\n",
       "..          ...        ...     ...         ...         ...      ...\n",
       "995         NaN   Region_7   31.83          13  2024-09-22   413.79\n",
       "996  Product_36        NaN   46.19           9  2024-09-23   415.71\n",
       "997         NaN   Region_7  311.80          13  2024-09-24  4053.40\n",
       "998   Product_2  Region_10   43.44          15  2024-09-25   651.60\n",
       "999  Product_35   Region_8   56.95           6  2024-09-26   341.70\n",
       "\n",
       "[982 rows x 6 columns]"
      ]
     },
     "execution_count": 712,
     "metadata": {},
     "output_type": "execute_result"
    }
   ],
   "source": [
    "df_clean"
   ]
  },
  {
   "cell_type": "code",
   "execution_count": 714,
   "metadata": {},
   "outputs": [],
   "source": [
    "product_is_null = df_clean[df_clean['Product'].isnull()]"
   ]
  },
  {
   "cell_type": "code",
   "execution_count": 719,
   "metadata": {},
   "outputs": [
    {
     "data": {
      "image/png": "[encoded data removed]",
      "text/plain": [
       "<Figure size 640x480 with 1 Axes>"
      ]
     },
     "metadata": {},
     "output_type": "display_data"
    }
   ],
   "source": [
    "sns.barplot(data=product_is_null, x='Region', y='Revenue')\n",
    "plt.xticks(rotation=90)\n",
    "plt.ylabel('Revenue from Null Products')\n",
    "plt.show()"
   ]
  },
  {
   "attachments": {},
   "cell_type": "markdown",
   "metadata": {},
   "source": [
    "This plot shows that Region_5 has a lot of revenue coming from sales where the Product was not marked down. Because it's significant, I want to find a way to fill in these null entries that will maintain the credibility of the data."
   ]
  },
  {
   "cell_type": "code",
   "execution_count": 718,
   "metadata": {},
   "outputs": [
    {
     "name": "stdout",
     "output_type": "stream",
     "text": [
      "    Product     Region   Price  Units Sold   Sale Date  Revenue\n",
      "0       NaN   Region_6   75.96          10  2022-01-01   759.60\n",
      "1       NaN   Region_1  175.78           8  2022-01-02  1406.24\n",
      "18      NaN        NaN  276.27           9  2022-01-19  2486.43\n",
      "21      NaN        NaN   46.10          14  2022-01-22   645.40\n",
      "27      NaN  Region_10  193.85          10  2022-01-28  1938.50\n",
      "..      ...        ...     ...         ...         ...      ...\n",
      "987     NaN   Region_4   31.66           6  2024-09-14   189.96\n",
      "989     NaN   Region_5  303.51           9  2024-09-16  2731.59\n",
      "992     NaN  Region_10  151.70          10  2024-09-19  1517.00\n",
      "995     NaN   Region_7   31.83          13  2024-09-22   413.79\n",
      "997     NaN   Region_7  311.80          13  2024-09-24  4053.40\n",
      "\n",
      "[82 rows x 6 columns]\n"
     ]
    }
   ],
   "source": [
    "print(product_is_null)"
   ]
  }
 ],
 "metadata": {
  "kernelspec": {
   "display_name": "Python 3",
   "language": "python",
   "name": "python3"
  },
  "language_info": {
   "codemirror_mode": {
    "name": "ipython",
    "version": 3
   },
   "file_extension": ".py",
   "mimetype": "text/x-python",
   "name": "python",
   "nbconvert_exporter": "python",
   "pygments_lexer": "ipython3",
   "version": "3.11.3"
  },
  "orig_nbformat": 4
 },
 "nbformat": 4,
 "nbformat_minor": 2
}
