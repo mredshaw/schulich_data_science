{
 "cells": [
  {
   "cell_type": "code",
   "execution_count": 191,
   "metadata": {},
   "outputs": [],
   "source": [
    "import pandas as pd\n",
    "import numpy as np\n",
    "import seaborn as sns"
   ]
  },
  {
   "cell_type": "code",
   "execution_count": 192,
   "metadata": {},
   "outputs": [],
   "source": [
    "df= pd.read_csv('/Users/mikeredshaw/Documents/Schulich MBAN/MBAN 6110 - Data Science/experiment_dataset.csv')"
   ]
  },
  {
   "attachments": {},
   "cell_type": "markdown",
   "metadata": {},
   "source": [
    "1. Analyze the results to determine which feature (if any) results in CTR or Time Spent lift."
   ]
  },
  {
   "cell_type": "code",
   "execution_count": 193,
   "metadata": {},
   "outputs": [
    {
     "name": "stdout",
     "output_type": "stream",
     "text": [
      "     Unnamed: 0  Age   Location   Device    Variant  Time Spent       CTR\n",
      "0             0   62  Location2  Device2    Control   13.928669  0.084776\n",
      "1             1   18  Location1  Device1  Variant B   11.310518  0.096859\n",
      "2             2   21  Location2  Device1  Variant B   24.842100  0.097630\n",
      "3             3   21  Location1  Device3  Variant B   20.061300  0.109783\n",
      "4             4   57  Location1  Device2  Variant B   34.495503  0.068579\n",
      "..          ...  ...        ...      ...        ...         ...       ...\n",
      "995         995   39  Location2  Device2  Variant B   17.252030  0.092211\n",
      "996         996   38  Location3  Device2    Control   30.075898  0.078151\n",
      "997         997   60  Location2  Device3    Control   31.929223  0.125213\n",
      "998         998   35  Location2  Device2  Variant B   14.680299  0.095423\n",
      "999         999   55  Location1  Device1  Variant B   25.803169  0.166688\n",
      "\n",
      "[1000 rows x 7 columns]\n"
     ]
    }
   ],
   "source": [
    "print(df)"
   ]
  },
  {
   "cell_type": "code",
   "execution_count": 194,
   "metadata": {},
   "outputs": [
    {
     "name": "stdout",
     "output_type": "stream",
     "text": [
      "<class 'pandas.core.frame.DataFrame'>\n",
      "RangeIndex: 1000 entries, 0 to 999\n",
      "Data columns (total 7 columns):\n",
      " #   Column      Non-Null Count  Dtype  \n",
      "---  ------      --------------  -----  \n",
      " 0   Unnamed: 0  1000 non-null   int64  \n",
      " 1   Age         1000 non-null   int64  \n",
      " 2   Location    1000 non-null   object \n",
      " 3   Device      1000 non-null   object \n",
      " 4   Variant     1000 non-null   object \n",
      " 5   Time Spent  1000 non-null   float64\n",
      " 6   CTR         1000 non-null   float64\n",
      "dtypes: float64(2), int64(2), object(3)\n",
      "memory usage: 54.8+ KB\n"
     ]
    }
   ],
   "source": [
    "df.info()"
   ]
  },
  {
   "cell_type": "code",
   "execution_count": 195,
   "metadata": {},
   "outputs": [
    {
     "data": {
      "text/html": [
       "<div>\n",
       "<style scoped>\n",
       "    .dataframe tbody tr th:only-of-type {\n",
       "        vertical-align: middle;\n",
       "    }\n",
       "\n",
       "    .dataframe tbody tr th {\n",
       "        vertical-align: top;\n",
       "    }\n",
       "\n",
       "    .dataframe thead th {\n",
       "        text-align: right;\n",
       "    }\n",
       "</style>\n",
       "<table border=\"1\" class=\"dataframe\">\n",
       "  <thead>\n",
       "    <tr style=\"text-align: right;\">\n",
       "      <th></th>\n",
       "      <th>Unnamed: 0</th>\n",
       "      <th>Age</th>\n",
       "      <th>Location</th>\n",
       "      <th>Device</th>\n",
       "      <th>Variant</th>\n",
       "      <th>Time Spent</th>\n",
       "      <th>CTR</th>\n",
       "    </tr>\n",
       "  </thead>\n",
       "  <tbody>\n",
       "    <tr>\n",
       "      <th>count</th>\n",
       "      <td>1000.000000</td>\n",
       "      <td>1000.000000</td>\n",
       "      <td>1000</td>\n",
       "      <td>1000</td>\n",
       "      <td>1000</td>\n",
       "      <td>1000.000000</td>\n",
       "      <td>1000.000000</td>\n",
       "    </tr>\n",
       "    <tr>\n",
       "      <th>unique</th>\n",
       "      <td>NaN</td>\n",
       "      <td>NaN</td>\n",
       "      <td>3</td>\n",
       "      <td>3</td>\n",
       "      <td>3</td>\n",
       "      <td>NaN</td>\n",
       "      <td>NaN</td>\n",
       "    </tr>\n",
       "    <tr>\n",
       "      <th>top</th>\n",
       "      <td>NaN</td>\n",
       "      <td>NaN</td>\n",
       "      <td>Location2</td>\n",
       "      <td>Device3</td>\n",
       "      <td>Control</td>\n",
       "      <td>NaN</td>\n",
       "      <td>NaN</td>\n",
       "    </tr>\n",
       "    <tr>\n",
       "      <th>freq</th>\n",
       "      <td>NaN</td>\n",
       "      <td>NaN</td>\n",
       "      <td>343</td>\n",
       "      <td>346</td>\n",
       "      <td>340</td>\n",
       "      <td>NaN</td>\n",
       "      <td>NaN</td>\n",
       "    </tr>\n",
       "    <tr>\n",
       "      <th>mean</th>\n",
       "      <td>499.500000</td>\n",
       "      <td>40.715000</td>\n",
       "      <td>NaN</td>\n",
       "      <td>NaN</td>\n",
       "      <td>NaN</td>\n",
       "      <td>22.713345</td>\n",
       "      <td>0.109145</td>\n",
       "    </tr>\n",
       "    <tr>\n",
       "      <th>std</th>\n",
       "      <td>288.819436</td>\n",
       "      <td>13.655557</td>\n",
       "      <td>NaN</td>\n",
       "      <td>NaN</td>\n",
       "      <td>NaN</td>\n",
       "      <td>5.479292</td>\n",
       "      <td>0.022366</td>\n",
       "    </tr>\n",
       "    <tr>\n",
       "      <th>min</th>\n",
       "      <td>0.000000</td>\n",
       "      <td>18.000000</td>\n",
       "      <td>NaN</td>\n",
       "      <td>NaN</td>\n",
       "      <td>NaN</td>\n",
       "      <td>7.114806</td>\n",
       "      <td>0.012975</td>\n",
       "    </tr>\n",
       "    <tr>\n",
       "      <th>25%</th>\n",
       "      <td>249.750000</td>\n",
       "      <td>28.000000</td>\n",
       "      <td>NaN</td>\n",
       "      <td>NaN</td>\n",
       "      <td>NaN</td>\n",
       "      <td>19.216608</td>\n",
       "      <td>0.094286</td>\n",
       "    </tr>\n",
       "    <tr>\n",
       "      <th>50%</th>\n",
       "      <td>499.500000</td>\n",
       "      <td>41.000000</td>\n",
       "      <td>NaN</td>\n",
       "      <td>NaN</td>\n",
       "      <td>NaN</td>\n",
       "      <td>22.506707</td>\n",
       "      <td>0.108944</td>\n",
       "    </tr>\n",
       "    <tr>\n",
       "      <th>75%</th>\n",
       "      <td>749.250000</td>\n",
       "      <td>53.000000</td>\n",
       "      <td>NaN</td>\n",
       "      <td>NaN</td>\n",
       "      <td>NaN</td>\n",
       "      <td>26.255950</td>\n",
       "      <td>0.124238</td>\n",
       "    </tr>\n",
       "    <tr>\n",
       "      <th>max</th>\n",
       "      <td>999.000000</td>\n",
       "      <td>64.000000</td>\n",
       "      <td>NaN</td>\n",
       "      <td>NaN</td>\n",
       "      <td>NaN</td>\n",
       "      <td>39.395770</td>\n",
       "      <td>0.172728</td>\n",
       "    </tr>\n",
       "  </tbody>\n",
       "</table>\n",
       "</div>"
      ],
      "text/plain": [
       "         Unnamed: 0          Age   Location   Device  Variant   Time Spent   \n",
       "count   1000.000000  1000.000000       1000     1000     1000  1000.000000  \\\n",
       "unique          NaN          NaN          3        3        3          NaN   \n",
       "top             NaN          NaN  Location2  Device3  Control          NaN   \n",
       "freq            NaN          NaN        343      346      340          NaN   \n",
       "mean     499.500000    40.715000        NaN      NaN      NaN    22.713345   \n",
       "std      288.819436    13.655557        NaN      NaN      NaN     5.479292   \n",
       "min        0.000000    18.000000        NaN      NaN      NaN     7.114806   \n",
       "25%      249.750000    28.000000        NaN      NaN      NaN    19.216608   \n",
       "50%      499.500000    41.000000        NaN      NaN      NaN    22.506707   \n",
       "75%      749.250000    53.000000        NaN      NaN      NaN    26.255950   \n",
       "max      999.000000    64.000000        NaN      NaN      NaN    39.395770   \n",
       "\n",
       "                CTR  \n",
       "count   1000.000000  \n",
       "unique          NaN  \n",
       "top             NaN  \n",
       "freq            NaN  \n",
       "mean       0.109145  \n",
       "std        0.022366  \n",
       "min        0.012975  \n",
       "25%        0.094286  \n",
       "50%        0.108944  \n",
       "75%        0.124238  \n",
       "max        0.172728  "
      ]
     },
     "execution_count": 195,
     "metadata": {},
     "output_type": "execute_result"
    }
   ],
   "source": [
    "df.describe(include = 'all')"
   ]
  },
  {
   "cell_type": "code",
   "execution_count": 196,
   "metadata": {},
   "outputs": [
    {
     "data": {
      "text/plain": [
       "Unnamed: 0      int64\n",
       "Age             int64\n",
       "Location       object\n",
       "Device         object\n",
       "Variant        object\n",
       "Time Spent    float64\n",
       "CTR           float64\n",
       "dtype: object"
      ]
     },
     "execution_count": 196,
     "metadata": {},
     "output_type": "execute_result"
    }
   ],
   "source": [
    "df.dtypes"
   ]
  },
  {
   "cell_type": "code",
   "execution_count": 197,
   "metadata": {},
   "outputs": [
    {
     "name": "stdout",
     "output_type": "stream",
     "text": [
      "           Time Spent       CTR\n",
      "Variant                        \n",
      "Control     20.070781  0.098554\n",
      "Variant A   24.805547  0.120269\n",
      "Variant B   23.343783  0.108933\n"
     ]
    }
   ],
   "source": [
    "grouped_variant = df.groupby('Variant')[['Time Spent', 'CTR']].mean()\n",
    "print(grouped_variant)"
   ]
  },
  {
   "attachments": {},
   "cell_type": "markdown",
   "metadata": {},
   "source": [
    "I want to review the sample size for each Variant, Device type and Location:"
   ]
  },
  {
   "cell_type": "code",
   "execution_count": 198,
   "metadata": {},
   "outputs": [
    {
     "name": "stdout",
     "output_type": "stream",
     "text": [
      "Variant\n",
      "Control      340\n",
      "Variant A    330\n",
      "Variant B    330\n",
      "dtype: int64\n"
     ]
    }
   ],
   "source": [
    "grouped_variant_size = df.groupby('Variant').size()\n",
    "print(grouped_variant_size)"
   ]
  },
  {
   "cell_type": "code",
   "execution_count": 199,
   "metadata": {},
   "outputs": [
    {
     "name": "stdout",
     "output_type": "stream",
     "text": [
      "Device   Variant  \n",
      "Device1  Control      118\n",
      "         Variant A    105\n",
      "         Variant B     93\n",
      "Device2  Control      103\n",
      "         Variant A    106\n",
      "         Variant B    129\n",
      "Device3  Control      119\n",
      "         Variant A    119\n",
      "         Variant B    108\n",
      "dtype: int64\n"
     ]
    }
   ],
   "source": [
    "grouped_device = df.groupby(['Device', 'Variant']).size()\n",
    "print(grouped_device)\n"
   ]
  },
  {
   "cell_type": "code",
   "execution_count": 200,
   "metadata": {},
   "outputs": [
    {
     "name": "stdout",
     "output_type": "stream",
     "text": [
      "Location   Variant  \n",
      "Location1  Control      111\n",
      "           Variant A    102\n",
      "           Variant B    120\n",
      "Location2  Control      125\n",
      "           Variant A    120\n",
      "           Variant B     98\n",
      "Location3  Control      104\n",
      "           Variant A    108\n",
      "           Variant B    112\n",
      "dtype: int64\n"
     ]
    }
   ],
   "source": [
    "grouped_location = df.groupby(['Location', 'Variant']).size()\n",
    "print(grouped_location)\n"
   ]
  },
  {
   "attachments": {},
   "cell_type": "markdown",
   "metadata": {},
   "source": [
    "Since the variant samples are pretty evenly divided amongst Devices and Location, I don't see any reason these would cause bias in results, and thus I will simply analyze the Variants based on the entire dataset and not any of these separate data groups."
   ]
  },
  {
   "cell_type": "code",
   "execution_count": 201,
   "metadata": {},
   "outputs": [
    {
     "data": {
      "text/plain": [
       "<Axes: xlabel='Variant', ylabel='Time Spent'>"
      ]
     },
     "execution_count": 201,
     "metadata": {},
     "output_type": "execute_result"
    },
    {
     "data": {
      "image/png": "[encoded data removed]",
      "text/plain": [
       "<Figure size 640x480 with 1 Axes>"
      ]
     },
     "metadata": {},
     "output_type": "display_data"
    }
   ],
   "source": [
    "sns.lineplot(data = grouped_variant, x = 'Variant', y = 'Time Spent')"
   ]
  },
  {
   "cell_type": "code",
   "execution_count": 202,
   "metadata": {},
   "outputs": [
    {
     "data": {
      "text/plain": [
       "<Axes: xlabel='Variant', ylabel='CTR'>"
      ]
     },
     "execution_count": 202,
     "metadata": {},
     "output_type": "execute_result"
    },
    {
     "data": {
      "image/png": "[encoded data removed]",
      "text/plain": [
       "<Figure size 640x480 with 1 Axes>"
      ]
     },
     "metadata": {},
     "output_type": "display_data"
    }
   ],
   "source": [
    "sns.lineplot(data = grouped_variant, x = 'Variant', y = 'CTR')"
   ]
  },
  {
   "attachments": {},
   "cell_type": "markdown",
   "metadata": {},
   "source": [
    "2. Conduct statistical testing to determine if there is a statistically significant difference between the features and the control group."
   ]
  },
  {
   "attachments": {},
   "cell_type": "markdown",
   "metadata": {},
   "source": [
    "As we can see based on my initial analysis, both Variant A & Variant B have lifted both average Time Spent as well as average CTR. I will now look to run correlation, T-Test & P-value analysis to see if the differences are significant."
   ]
  },
  {
   "attachments": {},
   "cell_type": "markdown",
   "metadata": {},
   "source": [
    "I want to be able to conduct numerical calculations with the variants, so I will provide them with a value of 1 when it is a variant and 0 when it is control, calling this column 'Variant Status'. I will also provide them with distinct numeric values of 1 2 and 3 to enable variant specific calculations later in the process if needed, calling this column 'Variant Number'."
   ]
  },
  {
   "cell_type": "code",
   "execution_count": 203,
   "metadata": {},
   "outputs": [
    {
     "name": "stdout",
     "output_type": "stream",
     "text": [
      "     Unnamed: 0  Age   Location   Device    Variant  Time Spent       CTR   \n",
      "0             0   62  Location2  Device2    Control   13.928669  0.084776  \\\n",
      "1             1   18  Location1  Device1  Variant B   11.310518  0.096859   \n",
      "2             2   21  Location2  Device1  Variant B   24.842100  0.097630   \n",
      "3             3   21  Location1  Device3  Variant B   20.061300  0.109783   \n",
      "4             4   57  Location1  Device2  Variant B   34.495503  0.068579   \n",
      "..          ...  ...        ...      ...        ...         ...       ...   \n",
      "995         995   39  Location2  Device2  Variant B   17.252030  0.092211   \n",
      "996         996   38  Location3  Device2    Control   30.075898  0.078151   \n",
      "997         997   60  Location2  Device3    Control   31.929223  0.125213   \n",
      "998         998   35  Location2  Device2  Variant B   14.680299  0.095423   \n",
      "999         999   55  Location1  Device1  Variant B   25.803169  0.166688   \n",
      "\n",
      "     Variant Status  Variant Number  \n",
      "0                 0               1  \n",
      "1                 1               3  \n",
      "2                 1               3  \n",
      "3                 1               3  \n",
      "4                 1               3  \n",
      "..              ...             ...  \n",
      "995               1               3  \n",
      "996               0               1  \n",
      "997               0               1  \n",
      "998               1               3  \n",
      "999               1               3  \n",
      "\n",
      "[1000 rows x 9 columns]\n",
      "\n",
      "correlation between variant status and time spent = 0.3463265065237782\n",
      "correlation between variant status and CTR = 0.3400481768821228\n"
     ]
    }
   ],
   "source": [
    "df['Variant Status'] = df['Variant'].map({'Control': 0, 'Variant A': 1, 'Variant B': 1})\n",
    "df['Variant Number'] = df['Variant'].map({'Control': 1, 'Variant A': 2, 'Variant B': 3})\n",
    "\n",
    "print(df)\n",
    "\n",
    "correlation_time_spent = df['Variant Status'].corr(df['Time Spent'])\n",
    "correlation_ctr = df['Variant Status'].corr(df['CTR'])\n",
    "\n",
    "\n",
    "print('\\ncorrelation between variant status and time spent =', correlation_time_spent)\n",
    "print('correlation between variant status and CTR =', correlation_ctr)\n"
   ]
  },
  {
   "attachments": {},
   "cell_type": "markdown",
   "metadata": {},
   "source": [
    "As we can see, there is a weak positive correlation between the control and the variants, signifying that on average, when it's a variant, the user tends to spend more time and click more often. I would now like to analyze the variants independently from one another and conduct t-test and p-value tests to see how significant the increases are. "
   ]
  },
  {
   "cell_type": "code",
   "execution_count": 204,
   "metadata": {},
   "outputs": [
    {
     "name": "stdout",
     "output_type": "stream",
     "text": [
      "Test between control and Variant A Time Spent\n",
      "t-statistic: -12.142363487472364\n",
      "p-value: 8.488565644996449e-31\n",
      "\n",
      "Test between control and Variant B Time Spent\n",
      "t-statistic: -8.174237395991806\n",
      "p-value: 1.496358076285182e-15\n"
     ]
    }
   ],
   "source": [
    "import scipy.stats as stats\n",
    "\n",
    "control_time_spent = df[df['Variant'] == 'Control']['Time Spent']\n",
    "variantA_time_spent = df[df['Variant'] == 'Variant A']['Time Spent']\n",
    "variantB_time_spent = df[df['Variant'] == 'Variant B']['Time Spent']\n",
    "\n",
    "t_statistic, p_value = stats.ttest_ind(control_time_spent, variantA_time_spent)\n",
    "print(\"Test between control and Variant A Time Spent\")\n",
    "print(\"t-statistic:\", t_statistic)\n",
    "print(\"p-value:\", p_value)\n",
    "\n",
    "t_statistic, p_value = stats.ttest_ind(control_time_spent, variantB_time_spent)\n",
    "print(\"\\nTest between control and Variant B Time Spent\")\n",
    "print(\"t-statistic:\", t_statistic)\n",
    "print(\"p-value:\", p_value)\n",
    "\n"
   ]
  },
  {
   "attachments": {},
   "cell_type": "markdown",
   "metadata": {},
   "source": [
    "As we can see, compared to both Variant A and Variant B, the average time spent in the control is much lower than that in the variants. The p-value is incredibely small (much lower than 0.05), signifying that the results are significant and are very likely to repeat for both. We can also see that Variant A performs better here than Variant B, with the lower T-Stat and p-value."
   ]
  },
  {
   "cell_type": "code",
   "execution_count": 205,
   "metadata": {},
   "outputs": [
    {
     "name": "stdout",
     "output_type": "stream",
     "text": [
      "Test between control and Variant A CTR\n",
      "t-statistic: -13.829424737499187\n",
      "p-value: 1.9602781373243157e-38\n",
      "\n",
      "Test between control and Variant B CTR\n",
      "t-statistic: -6.4718143491783255\n",
      "p-value: 1.8743198199982106e-10\n"
     ]
    }
   ],
   "source": [
    "control_CTR = df[df['Variant'] == 'Control']['CTR']\n",
    "variantA_CTR = df[df['Variant'] == 'Variant A']['CTR']\n",
    "variantB_CTR = df[df['Variant'] == 'Variant B']['CTR']\n",
    "\n",
    "t_statistic, p_value = stats.ttest_ind(control_CTR, variantA_CTR)\n",
    "print(\"Test between control and Variant A CTR\")\n",
    "print(\"t-statistic:\", t_statistic)\n",
    "print(\"p-value:\", p_value)\n",
    "\n",
    "t_statistic, p_value = stats.ttest_ind(control_CTR, variantB_CTR)\n",
    "print(\"\\nTest between control and Variant B CTR\")\n",
    "print(\"t-statistic:\", t_statistic)\n",
    "print(\"p-value:\", p_value)"
   ]
  },
  {
   "attachments": {},
   "cell_type": "markdown",
   "metadata": {},
   "source": [
    "Similar to the time spent results, average CTR is much lower in the control group versus that of the Variant A & B groups. The incredibely small p-values (much lower than 0.05) also signify that this is strong evidence against the null-hypothesis, meaning that the variants both result in a statistically significant difference. Again we see that Variant A performs better than Variant B. I want to analyze the two variants against eachother to view exactly how much better Variant A performs then Variant B and if this performance boost is significant."
   ]
  },
  {
   "cell_type": "code",
   "execution_count": 206,
   "metadata": {},
   "outputs": [
    {
     "name": "stdout",
     "output_type": "stream",
     "text": [
      "Test between Variant A & B Time Spent\n",
      "t-statistic: 3.6788175394209075\n",
      "p-value: 0.0002534771014765265\n",
      "\n",
      " Test between Variant A & B CTR\n",
      "t-statistic: 7.08499696316128\n",
      "p-value: 3.587180487986577e-12\n"
     ]
    }
   ],
   "source": [
    "t_statistic, p_value = stats.ttest_ind(variantA_time_spent, variantB_time_spent)\n",
    "print(\"Test between Variant A & B Time Spent\")\n",
    "print(\"t-statistic:\", t_statistic)\n",
    "print(\"p-value:\", p_value)\n",
    "\n",
    "t_statistic, p_value = stats.ttest_ind(variantA_CTR, variantB_CTR)\n",
    "print(\"\\n Test between Variant A & B CTR\")\n",
    "print(\"t-statistic:\", t_statistic)\n",
    "print(\"p-value:\", p_value)"
   ]
  },
  {
   "attachments": {},
   "cell_type": "markdown",
   "metadata": {},
   "source": [
    "These results demonstrate that for both Time Spent and CTR, Variant A performs higher on average than Variant B, and both p-values are less than .05 indicating a statistical significant result, which is very likely to repeat with more samples. This means that it's very safe to say Variant A is the better of the two Variants when it comes to Time Spent and CTR as the performance benchmarks."
   ]
  },
  {
   "attachments": {},
   "cell_type": "markdown",
   "metadata": {},
   "source": [
    "3. Summarize your results. Make a recommendation to the engineering team about which feature to deploy. \n",
    "\n",
    "As we've seen throughout the analysis and statistical testing, both Variants on average perform better in both Time Spent and CTR then the control. Both result are statistically significant against the null-hypothesis, with p-values far below 0.05. This means that the Variants are very likely to perform better than the control when more samples are taken. Between the two variants, we also saw that Variant A performed on average better than Variant B in both Time Spent and CTR, with the results being statistically significant. This means that it's very likely that Variant A would continue to outperform Variant B in both Time Spent and CTR with more samples. Due to these results, the engineering team should work on deploying Variant A, as it showed the highest average lift for both variables, and the likelyhood of this result reoccuring is statistically significant. \n",
    "\n",
    "4. Create a roll-out plan. How quickly will you introduce the feature to your audience?\n",
    "\n",
    "Depending on the actual content of the Variants themselves, users of Variant B should be quickly moved over to using Variant A to ensure that those users don't become too attached to using Variant B and thus more upset about being pushed to Variant A. Once those users are all on Variant A, Variant B can be dropped. With the control group still in place, the company could continue to monitor the data with a bigger user base on Variant A to ensure there are no issues, and possibly make any minor tweaks or adjustments that could further improve Variant A prior to a full launch. Having the control group in place would make reviewing the effects of any changes much easier. Finally, once the company is sure the Variant A system is able to withstand the full size of the userbase, they should transition the control users over to Variant A. This should all be done as fast as is safetly possible. Assuming the demand on Variant A causes no issues, we already know that the performance improvement of Variant A in terms of Time Spent and CTR is so strong and significant that there is very minimal risk that this improvement won't continue when more users are utilizing it. The transition can thus take place as fast as the Variant A system can handle."
   ]
  }
 ],
 "metadata": {
  "kernelspec": {
   "display_name": "Python 3",
   "language": "python",
   "name": "python3"
  },
  "language_info": {
   "codemirror_mode": {
    "name": "ipython",
    "version": 3
   },
   "file_extension": ".py",
   "mimetype": "text/x-python",
   "name": "python",
   "nbconvert_exporter": "python",
   "pygments_lexer": "ipython3",
   "version": "3.11.3"
  },
  "orig_nbformat": 4
 },
 "nbformat": 4,
 "nbformat_minor": 2
}
