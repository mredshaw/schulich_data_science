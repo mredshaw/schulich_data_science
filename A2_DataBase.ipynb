{
 "cells": [
  {
   "cell_type": "code",
   "execution_count": 5,
   "metadata": {},
   "outputs": [
    {
     "ename": "SyntaxError",
     "evalue": "invalid syntax (1042588720.py, line 1)",
     "output_type": "error",
     "traceback": [
      "\u001b[0;36m  Cell \u001b[0;32mIn[5], line 1\u001b[0;36m\u001b[0m\n\u001b[0;31m    pip install sqlalchemy\u001b[0m\n\u001b[0m        ^\u001b[0m\n\u001b[0;31mSyntaxError\u001b[0m\u001b[0;31m:\u001b[0m invalid syntax\n"
     ]
    }
   ],
   "source": [
    "pip install sqlalchemy"
   ]
  },
  {
   "cell_type": "code",
   "execution_count": 6,
   "metadata": {},
   "outputs": [
    {
     "name": "stdout",
     "output_type": "stream",
     "text": [
      "Collecting requests\n",
      "  Downloading requests-2.31.0-py3-none-any.whl (62 kB)\n",
      "\u001b[2K     \u001b[90m━━━━━━━━━━━━━━━━━━━━━━━━━━━━━━━━━━━━━━━━\u001b[0m \u001b[32m62.6/62.6 kB\u001b[0m \u001b[31m2.9 MB/s\u001b[0m eta \u001b[36m0:00:00\u001b[0m\n",
      "\u001b[?25hCollecting charset-normalizer<4,>=2\n",
      "  Downloading charset_normalizer-3.2.0-cp311-cp311-macosx_11_0_arm64.whl (122 kB)\n",
      "\u001b[2K     \u001b[90m━━━━━━━━━━━━━━━━━━━━━━━━━━━━━━━━━━━━━━━\u001b[0m \u001b[32m122.8/122.8 kB\u001b[0m \u001b[31m5.5 MB/s\u001b[0m eta \u001b[36m0:00:00\u001b[0m\n",
      "\u001b[?25hCollecting idna<4,>=2.5\n",
      "  Downloading idna-3.4-py3-none-any.whl (61 kB)\n",
      "\u001b[2K     \u001b[90m━━━━━━━━━━━━━━━━━━━━━━━━━━━━━━━━━━━━━━━━\u001b[0m \u001b[32m61.5/61.5 kB\u001b[0m \u001b[31m7.7 MB/s\u001b[0m eta \u001b[36m0:00:00\u001b[0m\n",
      "\u001b[?25hCollecting urllib3<3,>=1.21.1\n",
      "  Downloading urllib3-2.0.4-py3-none-any.whl (123 kB)\n",
      "\u001b[2K     \u001b[90m━━━━━━━━━━━━━━━━━━━━━━━━━━━━━━━━━━━━━━\u001b[0m \u001b[32m123.9/123.9 kB\u001b[0m \u001b[31m17.5 MB/s\u001b[0m eta \u001b[36m0:00:00\u001b[0m\n",
      "\u001b[?25hRequirement already satisfied: certifi>=2017.4.17 in /Library/Frameworks/Python.framework/Versions/3.11/lib/python3.11/site-packages (from requests) (2023.5.7)\n",
      "Installing collected packages: urllib3, idna, charset-normalizer, requests\n",
      "Successfully installed charset-normalizer-3.2.0 idna-3.4 requests-2.31.0 urllib3-2.0.4\n",
      "\n",
      "\u001b[1m[\u001b[0m\u001b[34;49mnotice\u001b[0m\u001b[1;39;49m]\u001b[0m\u001b[39;49m A new release of pip available: \u001b[0m\u001b[31;49m22.3.1\u001b[0m\u001b[39;49m -> \u001b[0m\u001b[32;49m23.2.1\u001b[0m\n",
      "\u001b[1m[\u001b[0m\u001b[34;49mnotice\u001b[0m\u001b[1;39;49m]\u001b[0m\u001b[39;49m To update, run: \u001b[0m\u001b[32;49mpip3 install --upgrade pip\u001b[0m\n",
      "Note: you may need to restart the kernel to use updated packages.\n"
     ]
    }
   ],
   "source": [
    "pip install requests"
   ]
  },
  {
   "cell_type": "code",
   "execution_count": 7,
   "metadata": {},
   "outputs": [],
   "source": [
    "import pandas as pd\n",
    "import sqlalchemy as sa\n",
    "import requests"
   ]
  },
  {
   "cell_type": "code",
   "execution_count": 8,
   "metadata": {},
   "outputs": [],
   "source": [
    "resource_id = '23172a73-7b85-49bd-9064-d600d2b21d37'\n",
    "limit = 1500\n",
    "offset = 0"
   ]
  },
  {
   "cell_type": "markdown",
   "metadata": {},
   "source": [
    "\n",
    "Database Title: Public sector salary disclosure 2020\n",
    "\n",
    "The database selected contains the sector, first names, last names, salaries, benefits, employer, and job title of all public sector and seconded employees in the year 2020\n",
    "\n",
    "resource_id = '23172a73-7b85-49bd-9064-d600d2b21d37'\n",
    "limit = 1500\n",
    "offset = 0\n",
    "\n",
    "api_url = 'https://data.ontario.ca/api/3/action/datastore_search?resource_id={}&limit={}&offset={}'.format(resource_id, limit, offset)\n",
    "\n",
    "print(api_url)\n",
    "\n",
    "api_response = requests.get(api_url)\n",
    "api_response\n",
    "\n",
    "data = api_response.json()\n",
    "data\n",
    "\n",
    "data['result']['records']\n",
    "\n",
    "salary_data = pd.DataFrame(data['result']['records'])\n",
    "salary_data\n",
    "\n",
    "# Data Engineering\n",
    "\n",
    "null_counts = salary_data.isnull().sum()\n",
    "print(null_counts)\n",
    "\n",
    "salary_data['full_name'] = salary_data['First name'] + ' ' + salary_data['Last name']\n",
    "salary_data['full_name']\n",
    "\n",
    "# Remove '$' and ',' from 'Ontario Commitment' and 'Total Project Costs' columns\n",
    "salary_data['Salary'] = salary_data['Salary'].str.replace('[$,]','', regex=True)\n",
    "salary_data['Benefits'] = salary_data['Benefits'].str.replace('[$,]','', regex=True)\n",
    "\n",
    "salary_data['Salary'] = pd.to_numeric(salary_data['Salary'])\n",
    "salary_data['Benefits'] = pd.to_numeric(salary_data['Benefits'])\n",
    "\n",
    "salary_data['total_pay'] = salary_data['Salary'] + salary_data['Benefits']\n",
    "salary_data['total_pay']\n",
    "\n",
    "salary_data\n",
    "\n",
    "relevant_columns = ['full_name', 'total_pay']\n",
    "clean_total_pay = salary_data[relevant_columns]\n",
    "clean_total_pay\n",
    "\n",
    "# Push Data to Postgres Database\n",
    "\n",
    "db_secret = {\n",
    "    'drivername': 'postgresql+psycopg2',\n",
    "    'host'      : 'mmai5100postgres.canadacentral.cloudapp.azure.com',\n",
    "    'port'      : '5432',\n",
    "    'username'  : 'jreid9',\n",
    "    'password'  : '2023!Schulich',\n",
    "    'database'  : 'jreid9_db'\n",
    "}\n",
    "\n",
    "db_connection_url = sa.engine.URL.create(\n",
    "    drivername = db_secret['drivername'],\n",
    "    username   = db_secret['username'],\n",
    "    password   = db_secret['password'],\n",
    "    host       = db_secret['host'],\n",
    "    port       = db_secret['port'],\n",
    "    database   = db_secret['database']\n",
    ")\n",
    "\n",
    "db_connection_url\n",
    "\n",
    "engine = sa.create_engine(db_connection_url)\n",
    "\n",
    "with engine.connect() as connection:\n",
    "    connection.execute('CREATE SCHEMA IF NOT EXISTS pipeline')\n",
    "\n",
    "clean_total_pay.to_sql(\n",
    "    name = 'total_pay', \n",
    "    schema = 'pipeline',\n",
    "    con = engine,\n",
    "    if_exists = 'replace',\n",
    "    index = False,\n",
    "    method = 'multi',\n",
    "    dtype = {\n",
    "        'full_name'  : sa.types.VARCHAR(50),\n",
    "        'total_pay'  : sa.types.DECIMAL(10,2)\n",
    "    }\n",
    ")"
   ]
  }
 ],
 "metadata": {
  "kernelspec": {
   "display_name": "Python 3",
   "language": "python",
   "name": "python3"
  },
  "language_info": {
   "codemirror_mode": {
    "name": "ipython",
    "version": 3
   },
   "file_extension": ".py",
   "mimetype": "text/x-python",
   "name": "python",
   "nbconvert_exporter": "python",
   "pygments_lexer": "ipython3",
   "version": "3.11.3"
  },
  "orig_nbformat": 4
 },
 "nbformat": 4,
 "nbformat_minor": 2
}
